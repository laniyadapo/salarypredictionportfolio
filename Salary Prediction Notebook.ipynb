{
 "cells": [
  {
   "cell_type": "markdown",
   "metadata": {
    "colab_type": "text",
    "id": "dy-lRtqUQlWv"
   },
   "source": [
    "# Salary Prediction Portfolio\n",
    "\n"
   ]
  },
  {
   "cell_type": "markdown",
   "metadata": {
    "colab_type": "text",
    "id": "wt-S9LfOQlWx"
   },
   "source": [
    "# Part 1 - Defining the problem that needs to be solved"
   ]
  },
  {
   "cell_type": "markdown",
   "metadata": {
    "colab_type": "text",
    "id": "IeVg-iQ8QlW0"
   },
   "source": [
    "An organization's ability to maintain a fair and balanced pay structure in line with internal and external (industry) factors is vital for it's success and employee retention KPI. Coming up with the right salary offer to candidates during recruitment process is crucial in attracting good talents to an organization."
   ]
  },
  {
   "cell_type": "markdown",
   "metadata": {
    "colab_type": "text",
    "id": "WdEeuFRVQlW3"
   },
   "source": [
    "The goal of this portfolio is predicting salaries for a new set of job posting with reliable accuracy by examining a set of job postings with salaries."
   ]
  },
  {
   "cell_type": "code",
   "execution_count": 1,
   "metadata": {
    "colab": {
     "base_uri": "https://localhost:8080/",
     "height": 51
    },
    "colab_type": "code",
    "executionInfo": {
     "elapsed": 992,
     "status": "ok",
     "timestamp": 1599660444428,
     "user": {
      "displayName": "Dapo Laniya",
      "photoUrl": "",
      "userId": "07293732013348809745"
     },
     "user_tz": 240
    },
    "id": "GyFILP5eQlW7",
    "outputId": "baae462c-c836-4549-c63f-6b4608bf8510"
   },
   "outputs": [
    {
     "name": "stderr",
     "output_type": "stream",
     "text": [
      "/usr/local/lib/python3.6/dist-packages/ipykernel_launcher.py:7: FutureWarning: pandas.util.testing is deprecated. Use the functions in the public API at pandas.testing instead.\n",
      "  import sys\n"
     ]
    }
   ],
   "source": [
    "#import your libraries\n",
    "#Analysis packages\n",
    "import pandas as pd\n",
    "import sklearn as sk\n",
    "import numpy as np\n",
    "import scipy.stats as sp\n",
    "import pandas.util.testing as tm\n",
    "\n",
    "#Visualization packages\n",
    "import matplotlib.pyplot as plt\n",
    "import matplotlib as matplot\n",
    "import seaborn as sns\n",
    "\n",
    "#Preprocessing\n",
    "from sklearn.preprocessing import StandardScaler, PolynomialFeatures\n",
    "\n",
    "#Models & Sklearn packages\n",
    "from sklearn.metrics import mean_squared_error as mse\n",
    "from sklearn.model_selection import cross_val_score as cvs\n",
    "from sklearn.linear_model import LinearRegression as lr\n",
    "from sklearn.ensemble import RandomForestRegressor as rfregr\n",
    "from sklearn.ensemble import GradientBoostingRegressor as grbregr\n",
    "from sklearn.ensemble import StackingRegressor\n",
    "from sklearn.model_selection import RandomizedSearchCV\n",
    "from sklearn.model_selection import train_test_split\n",
    "from sklearn.model_selection import GridSearchCV\n",
    "from tqdm import tqdm\n",
    "\n",
    "#setting directory where python interpreter looks for code files\n",
    "import sys\n",
    "sys.path.insert(0, '/content/drive/My Drive/Colab Notebooks/scripts')\n",
    "\n",
    "#read in functions from script file\n",
    "from code_scripts import data_properties, merge_data, feature_plot, estimator_cv, training_models, print_results\n",
    "from code_scripts import estimator_cv\n",
    "#your info here\n",
    "__author__ = \"Laniya Oladapo\"\n",
    "__email__ = \"laniyadapo@gmail.com\""
   ]
  },
  {
   "cell_type": "markdown",
   "metadata": {
    "colab_type": "raw",
    "id": "5D0ePMUpQlXL"
   },
   "source": [
    "## Part 2 - Data Discovery"
   ]
  },
  {
   "cell_type": "markdown",
   "metadata": {
    "colab_type": "text",
    "id": "sFmVdbhzQlXN"
   },
   "source": [
    "### 2.1 Load Data "
   ]
  },
  {
   "cell_type": "code",
   "execution_count": 1,
   "metadata": {
    "colab": {
     "base_uri": "https://localhost:8080/",
     "height": 122
    },
    "colab_type": "code",
    "executionInfo": {
     "elapsed": 31063,
     "status": "ok",
     "timestamp": 1599650352039,
     "user": {
      "displayName": "Dapo Laniya",
      "photoUrl": "",
      "userId": "07293732013348809745"
     },
     "user_tz": 240
    },
    "id": "jVtMC32SrZTF",
    "outputId": "7b17df87-1491-47b9-88d9-2607c0d36aaa"
   },
   "outputs": [
    {
     "name": "stdout",
     "output_type": "stream",
     "text": [
      "Go to this URL in a browser: https://accounts.google.com/o/oauth2/auth?client_id=947318989803-6bn6qk8qdgf4n4g3pfee6491hc0brc4i.apps.googleusercontent.com&redirect_uri=urn%3aietf%3awg%3aoauth%3a2.0%3aoob&scope=email%20https%3a%2f%2fwww.googleapis.com%2fauth%2fdocs.test%20https%3a%2f%2fwww.googleapis.com%2fauth%2fdrive%20https%3a%2f%2fwww.googleapis.com%2fauth%2fdrive.photos.readonly%20https%3a%2f%2fwww.googleapis.com%2fauth%2fpeopleapi.readonly&response_type=code\n",
      "\n",
      "Enter your authorization code:\n",
      "4/3wHjTWjJnQhIgvXljV2qHoaFDqFnniQQc4uLYkWSlr3uf0MjjxUzTyM\n",
      "Mounted at /content/drive\n"
     ]
    }
   ],
   "source": [
    "from google.colab import drive\n",
    "drive.mount('/content/drive')"
   ]
  },
  {
   "cell_type": "code",
   "execution_count": 2,
   "metadata": {
    "colab": {},
    "colab_type": "code",
    "executionInfo": {
     "elapsed": 3790,
     "status": "ok",
     "timestamp": 1599660454785,
     "user": {
      "displayName": "Dapo Laniya",
      "photoUrl": "",
      "userId": "07293732013348809745"
     },
     "user_tz": 240
    },
    "id": "nnuZkIzVQlXP"
   },
   "outputs": [],
   "source": [
    "#load the data into a Pandas dataframe\n",
    "train_features = pd.read_csv(\"/content/drive/My Drive/Colab Notebooks/train_features.csv\")\n",
    "train_target = pd.read_csv(\"/content/drive/My Drive/Colab Notebooks/train_salaries.csv\")\n",
    "test_features = pd.read_csv(\"/content/drive/My Drive/Colab Notebooks/test_features.csv\")"
   ]
  },
  {
   "cell_type": "markdown",
   "metadata": {
    "colab_type": "text",
    "id": "2jT8dqEiQlXb"
   },
   "source": [
    "### 2.2 Examine & Get Insights on Data "
   ]
  },
  {
   "cell_type": "markdown",
   "metadata": {
    "colab_type": "text",
    "id": "RR0SLpXZQlXd"
   },
   "source": [
    "2.2.1 Inspecting the features of training set"
   ]
  },
  {
   "cell_type": "code",
   "execution_count": 3,
   "metadata": {
    "colab": {
     "base_uri": "https://localhost:8080/",
     "height": 680
    },
    "colab_type": "code",
    "executionInfo": {
     "elapsed": 1852,
     "status": "ok",
     "timestamp": 1599660460607,
     "user": {
      "displayName": "Dapo Laniya",
      "photoUrl": "",
      "userId": "07293732013348809745"
     },
     "user_tz": 240
    },
    "id": "sBsxnutyQlXf",
    "outputId": "4b459a2c-d7c9-48bb-cc9e-c419388995d5"
   },
   "outputs": [
    {
     "name": "stdout",
     "output_type": "stream",
     "text": [
      "###############################Dataset Properties###############################\n",
      "\n",
      " There are 1000000 rows and 8 columns\n",
      "\n",
      "#########################The columns in the dataset are#########################\n",
      "Index(['jobId', 'companyId', 'jobType', 'degree', 'major', 'industry',\n",
      "       'yearsExperience', 'milesFromMetropolis'],\n",
      "      dtype='object')\n",
      "\n",
      "######################The first 5 rows in the dataset are#######################\n",
      "              jobId companyId  ... yearsExperience milesFromMetropolis\n",
      "0  JOB1362684407687    COMP37  ...              10                  83\n",
      "1  JOB1362684407688    COMP19  ...               3                  73\n",
      "2  JOB1362684407689    COMP52  ...              10                  38\n",
      "3  JOB1362684407690    COMP38  ...               8                  17\n",
      "4  JOB1362684407691     COMP7  ...               8                  16\n",
      "\n",
      "[5 rows x 8 columns]\n",
      "\n",
      "############The data types and null values count in the dataset are#############\n",
      "<class 'pandas.core.frame.DataFrame'>\n",
      "RangeIndex: 1000000 entries, 0 to 999999\n",
      "Data columns (total 8 columns):\n",
      " #   Column               Non-Null Count    Dtype \n",
      "---  ------               --------------    ----- \n",
      " 0   jobId                1000000 non-null  object\n",
      " 1   companyId            1000000 non-null  object\n",
      " 2   jobType              1000000 non-null  object\n",
      " 3   degree               1000000 non-null  object\n",
      " 4   major                1000000 non-null  object\n",
      " 5   industry             1000000 non-null  object\n",
      " 6   yearsExperience      1000000 non-null  int64 \n",
      " 7   milesFromMetropolis  1000000 non-null  int64 \n",
      "dtypes: int64(2), object(6)\n",
      "memory usage: 61.0+ MB\n",
      "None\n",
      "\n",
      "####################The number of duplicates in the dataset#####################\n",
      "0\n"
     ]
    }
   ],
   "source": [
    "data_properties(train_features)"
   ]
  },
  {
   "cell_type": "markdown",
   "metadata": {
    "colab_type": "text",
    "id": "K5Q8MszNQlXt"
   },
   "source": [
    "2.2.2 Inspecting the target variable of training set"
   ]
  },
  {
   "cell_type": "code",
   "execution_count": 4,
   "metadata": {
    "colab": {
     "base_uri": "https://localhost:8080/",
     "height": 510
    },
    "colab_type": "code",
    "executionInfo": {
     "elapsed": 1018,
     "status": "ok",
     "timestamp": 1599660466028,
     "user": {
      "displayName": "Dapo Laniya",
      "photoUrl": "",
      "userId": "07293732013348809745"
     },
     "user_tz": 240
    },
    "id": "Kik_F8Q9QlXt",
    "outputId": "45ada9e3-68ea-4e87-97cd-ccaba8848352"
   },
   "outputs": [
    {
     "name": "stdout",
     "output_type": "stream",
     "text": [
      "###############################Dataset Properties###############################\n",
      "\n",
      " There are 1000000 rows and 2 columns\n",
      "\n",
      "#########################The columns in the dataset are#########################\n",
      "Index(['jobId', 'salary'], dtype='object')\n",
      "\n",
      "######################The first 5 rows in the dataset are#######################\n",
      "              jobId  salary\n",
      "0  JOB1362684407687     130\n",
      "1  JOB1362684407688     101\n",
      "2  JOB1362684407689     137\n",
      "3  JOB1362684407690     142\n",
      "4  JOB1362684407691     163\n",
      "\n",
      "############The data types and null values count in the dataset are#############\n",
      "<class 'pandas.core.frame.DataFrame'>\n",
      "RangeIndex: 1000000 entries, 0 to 999999\n",
      "Data columns (total 2 columns):\n",
      " #   Column  Non-Null Count    Dtype \n",
      "---  ------  --------------    ----- \n",
      " 0   jobId   1000000 non-null  object\n",
      " 1   salary  1000000 non-null  int64 \n",
      "dtypes: int64(1), object(1)\n",
      "memory usage: 15.3+ MB\n",
      "None\n",
      "\n",
      "####################The number of duplicates in the dataset#####################\n",
      "0\n"
     ]
    }
   ],
   "source": [
    "data_properties(train_target)"
   ]
  },
  {
   "cell_type": "markdown",
   "metadata": {
    "colab_type": "text",
    "id": "Cr9fPfkdQlX7"
   },
   "source": [
    "2.2.3 Inspecting the features of test set"
   ]
  },
  {
   "cell_type": "code",
   "execution_count": 5,
   "metadata": {
    "colab": {
     "base_uri": "https://localhost:8080/",
     "height": 680
    },
    "colab_type": "code",
    "executionInfo": {
     "elapsed": 1708,
     "status": "ok",
     "timestamp": 1599660472562,
     "user": {
      "displayName": "Dapo Laniya",
      "photoUrl": "",
      "userId": "07293732013348809745"
     },
     "user_tz": 240
    },
    "id": "-jlrMifEQlX9",
    "outputId": "2a6b45cf-b034-433a-e2de-4be81ee99274"
   },
   "outputs": [
    {
     "name": "stdout",
     "output_type": "stream",
     "text": [
      "###############################Dataset Properties###############################\n",
      "\n",
      " There are 1000000 rows and 8 columns\n",
      "\n",
      "#########################The columns in the dataset are#########################\n",
      "Index(['jobId', 'companyId', 'jobType', 'degree', 'major', 'industry',\n",
      "       'yearsExperience', 'milesFromMetropolis'],\n",
      "      dtype='object')\n",
      "\n",
      "######################The first 5 rows in the dataset are#######################\n",
      "              jobId companyId  ... yearsExperience milesFromMetropolis\n",
      "0  JOB1362685407687    COMP33  ...              22                  73\n",
      "1  JOB1362685407688    COMP13  ...              20                  47\n",
      "2  JOB1362685407689    COMP10  ...              17                   9\n",
      "3  JOB1362685407690    COMP21  ...              14                  96\n",
      "4  JOB1362685407691    COMP36  ...              10                  44\n",
      "\n",
      "[5 rows x 8 columns]\n",
      "\n",
      "############The data types and null values count in the dataset are#############\n",
      "<class 'pandas.core.frame.DataFrame'>\n",
      "RangeIndex: 1000000 entries, 0 to 999999\n",
      "Data columns (total 8 columns):\n",
      " #   Column               Non-Null Count    Dtype \n",
      "---  ------               --------------    ----- \n",
      " 0   jobId                1000000 non-null  object\n",
      " 1   companyId            1000000 non-null  object\n",
      " 2   jobType              1000000 non-null  object\n",
      " 3   degree               1000000 non-null  object\n",
      " 4   major                1000000 non-null  object\n",
      " 5   industry             1000000 non-null  object\n",
      " 6   yearsExperience      1000000 non-null  int64 \n",
      " 7   milesFromMetropolis  1000000 non-null  int64 \n",
      "dtypes: int64(2), object(6)\n",
      "memory usage: 61.0+ MB\n",
      "None\n",
      "\n",
      "####################The number of duplicates in the dataset#####################\n",
      "0\n"
     ]
    }
   ],
   "source": [
    "data_properties(test_features)"
   ]
  },
  {
   "cell_type": "markdown",
   "metadata": {
    "colab_type": "text",
    "id": "z4Pjb-B7QlYF"
   },
   "source": [
    "2.2.4 Merging training datasets"
   ]
  },
  {
   "cell_type": "code",
   "execution_count": 6,
   "metadata": {
    "colab": {},
    "colab_type": "code",
    "executionInfo": {
     "elapsed": 2062,
     "status": "ok",
     "timestamp": 1599660478108,
     "user": {
      "displayName": "Dapo Laniya",
      "photoUrl": "",
      "userId": "07293732013348809745"
     },
     "user_tz": 240
    },
    "id": "ef7MkGyXQlYI"
   },
   "outputs": [],
   "source": [
    "# Merge training features and target variable datasets\n",
    "merged_train_data = merge_data(train_features, train_target)"
   ]
  },
  {
   "cell_type": "code",
   "execution_count": 7,
   "metadata": {
    "colab": {
     "base_uri": "https://localhost:8080/",
     "height": 204
    },
    "colab_type": "code",
    "executionInfo": {
     "elapsed": 516,
     "status": "ok",
     "timestamp": 1599660481707,
     "user": {
      "displayName": "Dapo Laniya",
      "photoUrl": "",
      "userId": "07293732013348809745"
     },
     "user_tz": 240
    },
    "id": "-fddMJoKQlYN",
    "outputId": "0230143a-701f-406d-c643-6e235def1397"
   },
   "outputs": [
    {
     "data": {
      "text/html": [
       "<div>\n",
       "<style scoped>\n",
       "    .dataframe tbody tr th:only-of-type {\n",
       "        vertical-align: middle;\n",
       "    }\n",
       "\n",
       "    .dataframe tbody tr th {\n",
       "        vertical-align: top;\n",
       "    }\n",
       "\n",
       "    .dataframe thead th {\n",
       "        text-align: right;\n",
       "    }\n",
       "</style>\n",
       "<table border=\"1\" class=\"dataframe\">\n",
       "  <thead>\n",
       "    <tr style=\"text-align: right;\">\n",
       "      <th></th>\n",
       "      <th>jobId</th>\n",
       "      <th>companyId</th>\n",
       "      <th>jobType</th>\n",
       "      <th>degree</th>\n",
       "      <th>major</th>\n",
       "      <th>industry</th>\n",
       "      <th>yearsExperience</th>\n",
       "      <th>milesFromMetropolis</th>\n",
       "      <th>salary</th>\n",
       "    </tr>\n",
       "  </thead>\n",
       "  <tbody>\n",
       "    <tr>\n",
       "      <th>0</th>\n",
       "      <td>JOB1362684407687</td>\n",
       "      <td>COMP37</td>\n",
       "      <td>CFO</td>\n",
       "      <td>MASTERS</td>\n",
       "      <td>MATH</td>\n",
       "      <td>HEALTH</td>\n",
       "      <td>10</td>\n",
       "      <td>83</td>\n",
       "      <td>130</td>\n",
       "    </tr>\n",
       "    <tr>\n",
       "      <th>1</th>\n",
       "      <td>JOB1362684407688</td>\n",
       "      <td>COMP19</td>\n",
       "      <td>CEO</td>\n",
       "      <td>HIGH_SCHOOL</td>\n",
       "      <td>NONE</td>\n",
       "      <td>WEB</td>\n",
       "      <td>3</td>\n",
       "      <td>73</td>\n",
       "      <td>101</td>\n",
       "    </tr>\n",
       "    <tr>\n",
       "      <th>2</th>\n",
       "      <td>JOB1362684407689</td>\n",
       "      <td>COMP52</td>\n",
       "      <td>VICE_PRESIDENT</td>\n",
       "      <td>DOCTORAL</td>\n",
       "      <td>PHYSICS</td>\n",
       "      <td>HEALTH</td>\n",
       "      <td>10</td>\n",
       "      <td>38</td>\n",
       "      <td>137</td>\n",
       "    </tr>\n",
       "    <tr>\n",
       "      <th>3</th>\n",
       "      <td>JOB1362684407690</td>\n",
       "      <td>COMP38</td>\n",
       "      <td>MANAGER</td>\n",
       "      <td>DOCTORAL</td>\n",
       "      <td>CHEMISTRY</td>\n",
       "      <td>AUTO</td>\n",
       "      <td>8</td>\n",
       "      <td>17</td>\n",
       "      <td>142</td>\n",
       "    </tr>\n",
       "    <tr>\n",
       "      <th>4</th>\n",
       "      <td>JOB1362684407691</td>\n",
       "      <td>COMP7</td>\n",
       "      <td>VICE_PRESIDENT</td>\n",
       "      <td>BACHELORS</td>\n",
       "      <td>PHYSICS</td>\n",
       "      <td>FINANCE</td>\n",
       "      <td>8</td>\n",
       "      <td>16</td>\n",
       "      <td>163</td>\n",
       "    </tr>\n",
       "  </tbody>\n",
       "</table>\n",
       "</div>"
      ],
      "text/plain": [
       "              jobId companyId  ... milesFromMetropolis salary\n",
       "0  JOB1362684407687    COMP37  ...                  83    130\n",
       "1  JOB1362684407688    COMP19  ...                  73    101\n",
       "2  JOB1362684407689    COMP52  ...                  38    137\n",
       "3  JOB1362684407690    COMP38  ...                  17    142\n",
       "4  JOB1362684407691     COMP7  ...                  16    163\n",
       "\n",
       "[5 rows x 9 columns]"
      ]
     },
     "execution_count": 7,
     "metadata": {
      "tags": []
     },
     "output_type": "execute_result"
    }
   ],
   "source": [
    "merged_train_data.head()"
   ]
  },
  {
   "cell_type": "markdown",
   "metadata": {
    "colab_type": "text",
    "id": "JFWdPNGDQlYS"
   },
   "source": [
    "2.2.5 Inspecting the merged dataset"
   ]
  },
  {
   "cell_type": "code",
   "execution_count": 8,
   "metadata": {
    "colab": {
     "base_uri": "https://localhost:8080/",
     "height": 697
    },
    "colab_type": "code",
    "executionInfo": {
     "elapsed": 1979,
     "status": "ok",
     "timestamp": 1599660489020,
     "user": {
      "displayName": "Dapo Laniya",
      "photoUrl": "",
      "userId": "07293732013348809745"
     },
     "user_tz": 240
    },
    "id": "pVQIFz2iQlYS",
    "outputId": "e0d28f26-aa13-4854-cfac-e3335a5676a6"
   },
   "outputs": [
    {
     "name": "stdout",
     "output_type": "stream",
     "text": [
      "###############################Dataset Properties###############################\n",
      "\n",
      " There are 1000000 rows and 9 columns\n",
      "\n",
      "#########################The columns in the dataset are#########################\n",
      "Index(['jobId', 'companyId', 'jobType', 'degree', 'major', 'industry',\n",
      "       'yearsExperience', 'milesFromMetropolis', 'salary'],\n",
      "      dtype='object')\n",
      "\n",
      "######################The first 5 rows in the dataset are#######################\n",
      "              jobId companyId  ... milesFromMetropolis salary\n",
      "0  JOB1362684407687    COMP37  ...                  83    130\n",
      "1  JOB1362684407688    COMP19  ...                  73    101\n",
      "2  JOB1362684407689    COMP52  ...                  38    137\n",
      "3  JOB1362684407690    COMP38  ...                  17    142\n",
      "4  JOB1362684407691     COMP7  ...                  16    163\n",
      "\n",
      "[5 rows x 9 columns]\n",
      "\n",
      "############The data types and null values count in the dataset are#############\n",
      "<class 'pandas.core.frame.DataFrame'>\n",
      "Int64Index: 1000000 entries, 0 to 999999\n",
      "Data columns (total 9 columns):\n",
      " #   Column               Non-Null Count    Dtype \n",
      "---  ------               --------------    ----- \n",
      " 0   jobId                1000000 non-null  object\n",
      " 1   companyId            1000000 non-null  object\n",
      " 2   jobType              1000000 non-null  object\n",
      " 3   degree               1000000 non-null  object\n",
      " 4   major                1000000 non-null  object\n",
      " 5   industry             1000000 non-null  object\n",
      " 6   yearsExperience      1000000 non-null  int64 \n",
      " 7   milesFromMetropolis  1000000 non-null  int64 \n",
      " 8   salary               1000000 non-null  int64 \n",
      "dtypes: int64(3), object(6)\n",
      "memory usage: 76.3+ MB\n",
      "None\n",
      "\n",
      "####################The number of duplicates in the dataset#####################\n",
      "0\n"
     ]
    }
   ],
   "source": [
    "data_properties(merged_train_data)"
   ]
  },
  {
   "cell_type": "code",
   "execution_count": 9,
   "metadata": {
    "colab": {
     "base_uri": "https://localhost:8080/",
     "height": 187
    },
    "colab_type": "code",
    "executionInfo": {
     "elapsed": 592,
     "status": "ok",
     "timestamp": 1599660495413,
     "user": {
      "displayName": "Dapo Laniya",
      "photoUrl": "",
      "userId": "07293732013348809745"
     },
     "user_tz": 240
    },
    "id": "fHpSGK3IGha2",
    "outputId": "bec49125-dcca-479d-f5d8-99e8d4437e48"
   },
   "outputs": [
    {
     "data": {
      "text/plain": [
       "jobId                    object\n",
       "companyId              category\n",
       "jobType                category\n",
       "degree                 category\n",
       "major                  category\n",
       "industry               category\n",
       "yearsExperience           int64\n",
       "milesFromMetropolis       int64\n",
       "salary                    int64\n",
       "dtype: object"
      ]
     },
     "execution_count": 9,
     "metadata": {
      "tags": []
     },
     "output_type": "execute_result"
    }
   ],
   "source": [
    "#casting type to categorical data\n",
    "merged_train_data[['companyId','jobType','major','degree','industry']]=merged_train_data[['companyId',\n",
    "    'jobType','major','degree','industry']].astype('category')\n",
    "merged_train_data.dtypes"
   ]
  },
  {
   "cell_type": "code",
   "execution_count": 10,
   "metadata": {
    "colab": {
     "base_uri": "https://localhost:8080/",
     "height": 693
    },
    "colab_type": "code",
    "executionInfo": {
     "elapsed": 1415,
     "status": "ok",
     "timestamp": 1599660501129,
     "user": {
      "displayName": "Dapo Laniya",
      "photoUrl": "",
      "userId": "07293732013348809745"
     },
     "user_tz": 240
    },
    "id": "UAER31BOQlYX",
    "outputId": "ef10a9b2-a1c1-4f4a-97bc-69e386ea080c",
    "scrolled": true
   },
   "outputs": [
    {
     "data": {
      "text/plain": [
       "array([[<matplotlib.axes._subplots.AxesSubplot object at 0x7fd8c3b9e828>,\n",
       "        <matplotlib.axes._subplots.AxesSubplot object at 0x7fd8c3b78b00>],\n",
       "       [<matplotlib.axes._subplots.AxesSubplot object at 0x7fd8c3b2dd68>,\n",
       "        <matplotlib.axes._subplots.AxesSubplot object at 0x7fd8c3adefd0>]],\n",
       "      dtype=object)"
      ]
     },
     "execution_count": 10,
     "metadata": {
      "tags": []
     },
     "output_type": "execute_result"
    },
    {
     "data": {
      "image/png": "[encoded data removed]",
      "text/plain": [
       "<Figure size 720x720 with 4 Axes>"
      ]
     },
     "metadata": {
      "needs_background": "light",
      "tags": []
     },
     "output_type": "display_data"
    }
   ],
   "source": [
    "merged_train_data.hist(figsize=(10,10))"
   ]
  },
  {
   "cell_type": "markdown",
   "metadata": {
    "colab_type": "text",
    "id": "Uk50jQkwQlYi"
   },
   "source": [
    "### 2.3 Clean data"
   ]
  },
  {
   "cell_type": "markdown",
   "metadata": {
    "colab_type": "text",
    "id": "sdYRFk5LQlYj"
   },
   "source": [
    "2.3.1 Checking for duplicates in data"
   ]
  },
  {
   "cell_type": "code",
   "execution_count": 11,
   "metadata": {
    "colab": {
     "base_uri": "https://localhost:8080/",
     "height": 34
    },
    "colab_type": "code",
    "executionInfo": {
     "elapsed": 884,
     "status": "ok",
     "timestamp": 1599660506146,
     "user": {
      "displayName": "Dapo Laniya",
      "photoUrl": "",
      "userId": "07293732013348809745"
     },
     "user_tz": 240
    },
    "id": "C-8YnnbzQlYm",
    "outputId": "62c038cd-5f1c-4901-a186-2d55e447a3e7"
   },
   "outputs": [
    {
     "data": {
      "text/plain": [
       "True"
      ]
     },
     "execution_count": 11,
     "metadata": {
      "tags": []
     },
     "output_type": "execute_result"
    }
   ],
   "source": [
    "#Checking for duplicated Job Id in merged data\n",
    "merged_train_data['jobId'].is_unique"
   ]
  },
  {
   "cell_type": "markdown",
   "metadata": {
    "colab_type": "text",
    "id": "Gwn470EMQlYz"
   },
   "source": [
    "2.3.2 Checking for missing data"
   ]
  },
  {
   "cell_type": "code",
   "execution_count": 12,
   "metadata": {
    "colab": {
     "base_uri": "https://localhost:8080/",
     "height": 187
    },
    "colab_type": "code",
    "executionInfo": {
     "elapsed": 1042,
     "status": "ok",
     "timestamp": 1599660536360,
     "user": {
      "displayName": "Dapo Laniya",
      "photoUrl": "",
      "userId": "07293732013348809745"
     },
     "user_tz": 240
    },
    "id": "6dIGRLL9QlY0",
    "outputId": "64f420b2-45d5-47fd-aa66-6fc22433ddbd"
   },
   "outputs": [
    {
     "data": {
      "text/plain": [
       "jobId                  False\n",
       "companyId              False\n",
       "jobType                False\n",
       "degree                 False\n",
       "major                  False\n",
       "industry               False\n",
       "yearsExperience        False\n",
       "milesFromMetropolis    False\n",
       "salary                 False\n",
       "dtype: bool"
      ]
     },
     "execution_count": 12,
     "metadata": {
      "tags": []
     },
     "output_type": "execute_result"
    }
   ],
   "source": [
    "merged_train_data.isnull().any()"
   ]
  },
  {
   "cell_type": "markdown",
   "metadata": {
    "colab_type": "text",
    "id": "7gmdCJyGQlZD"
   },
   "source": [
    "2.3.3 Visualize data to check and remove invalid target data"
   ]
  },
  {
   "cell_type": "code",
   "execution_count": 13,
   "metadata": {
    "colab": {
     "base_uri": "https://localhost:8080/",
     "height": 388
    },
    "colab_type": "code",
    "executionInfo": {
     "elapsed": 1083,
     "status": "ok",
     "timestamp": 1599660542125,
     "user": {
      "displayName": "Dapo Laniya",
      "photoUrl": "",
      "userId": "07293732013348809745"
     },
     "user_tz": 240
    },
    "id": "Kx7ygLsgQlZE",
    "outputId": "37cadab2-c018-4ce3-da2b-ecce0b03a67d"
   },
   "outputs": [
    {
     "data": {
      "image/png": "[encoded data removed]",
      "text/plain": [
       "<Figure size 1008x432 with 2 Axes>"
      ]
     },
     "metadata": {
      "needs_background": "light",
      "tags": []
     },
     "output_type": "display_data"
    }
   ],
   "source": [
    "#Visualize target variable data \n",
    "plt.figure(figsize = (14, 6))\n",
    "plt.subplot(1,2,1)\n",
    "sns.boxplot(merged_train_data.salary)\n",
    "plt.subplot(1,2,2)\n",
    "sns.distplot(merged_train_data.salary, bins=20)\n",
    "plt.show()"
   ]
  },
  {
   "cell_type": "markdown",
   "metadata": {
    "colab_type": "text",
    "id": "EF0h7j_UQlZQ"
   },
   "source": [
    "2.3.3 Checking for potential outliers using the IQR rule"
   ]
  },
  {
   "cell_type": "code",
   "execution_count": 14,
   "metadata": {
    "colab": {
     "base_uri": "https://localhost:8080/",
     "height": 187
    },
    "colab_type": "code",
    "executionInfo": {
     "elapsed": 809,
     "status": "ok",
     "timestamp": 1599660548159,
     "user": {
      "displayName": "Dapo Laniya",
      "photoUrl": "",
      "userId": "07293732013348809745"
     },
     "user_tz": 240
    },
    "id": "gW_k2V2cQlZS",
    "outputId": "3c8c3328-3e19-4713-960d-453aa2b1a6ac"
   },
   "outputs": [
    {
     "name": "stdout",
     "output_type": "stream",
     "text": [
      "count    1000000.000000\n",
      "mean         116.061818\n",
      "std           38.717936\n",
      "min            0.000000\n",
      "25%           88.000000\n",
      "50%          114.000000\n",
      "75%          141.000000\n",
      "max          301.000000\n",
      "Name: salary, dtype: float64\n",
      "The upper and lower bounds for suspected outliers are 220.5 and 8.5.\n"
     ]
    }
   ],
   "source": [
    "# Identify potential outliers\n",
    "info = merged_train_data.salary.describe()\n",
    "print(info)\n",
    "IQR = info['75%'] - info['25%']\n",
    "upper = info['75%'] + 1.5 * IQR\n",
    "lower = info['25%'] - 1.5 * IQR\n",
    "print('The upper and lower bounds for suspected outliers are {} and {}.'.format(upper, lower))"
   ]
  },
  {
   "cell_type": "markdown",
   "metadata": {
    "colab_type": "text",
    "id": "gBJDncBFQlZZ"
   },
   "source": [
    "2.3.4 Investigate identified outliers"
   ]
  },
  {
   "cell_type": "code",
   "execution_count": 15,
   "metadata": {
    "colab": {
     "base_uri": "https://localhost:8080/",
     "height": 187
    },
    "colab_type": "code",
    "executionInfo": {
     "elapsed": 1190,
     "status": "ok",
     "timestamp": 1599660553648,
     "user": {
      "displayName": "Dapo Laniya",
      "photoUrl": "",
      "userId": "07293732013348809745"
     },
     "user_tz": 240
    },
    "id": "Clkk2RQAQlZa",
    "outputId": "bb53b48b-c1f6-4a06-ba23-c057d3cc1efe"
   },
   "outputs": [
    {
     "data": {
      "text/plain": [
       "jobId                  5\n",
       "companyId              5\n",
       "jobType                5\n",
       "degree                 5\n",
       "major                  5\n",
       "industry               5\n",
       "yearsExperience        5\n",
       "milesFromMetropolis    5\n",
       "salary                 5\n",
       "dtype: int64"
      ]
     },
     "execution_count": 15,
     "metadata": {
      "tags": []
     },
     "output_type": "execute_result"
    }
   ],
   "source": [
    "#checking lower bound suspected outliers \n",
    "merged_train_data[merged_train_data.salary < 8.5].count()"
   ]
  },
  {
   "cell_type": "code",
   "execution_count": 16,
   "metadata": {
    "colab": {
     "base_uri": "https://localhost:8080/",
     "height": 204
    },
    "colab_type": "code",
    "executionInfo": {
     "elapsed": 913,
     "status": "ok",
     "timestamp": 1599660557993,
     "user": {
      "displayName": "Dapo Laniya",
      "photoUrl": "",
      "userId": "07293732013348809745"
     },
     "user_tz": 240
    },
    "id": "p7cWQzy4QlZg",
    "outputId": "01b7f6c6-45d0-4eb0-b47d-0dc7de8ff56d"
   },
   "outputs": [
    {
     "data": {
      "text/html": [
       "<div>\n",
       "<style scoped>\n",
       "    .dataframe tbody tr th:only-of-type {\n",
       "        vertical-align: middle;\n",
       "    }\n",
       "\n",
       "    .dataframe tbody tr th {\n",
       "        vertical-align: top;\n",
       "    }\n",
       "\n",
       "    .dataframe thead th {\n",
       "        text-align: right;\n",
       "    }\n",
       "</style>\n",
       "<table border=\"1\" class=\"dataframe\">\n",
       "  <thead>\n",
       "    <tr style=\"text-align: right;\">\n",
       "      <th></th>\n",
       "      <th>jobId</th>\n",
       "      <th>companyId</th>\n",
       "      <th>jobType</th>\n",
       "      <th>degree</th>\n",
       "      <th>major</th>\n",
       "      <th>industry</th>\n",
       "      <th>yearsExperience</th>\n",
       "      <th>milesFromMetropolis</th>\n",
       "      <th>salary</th>\n",
       "    </tr>\n",
       "  </thead>\n",
       "  <tbody>\n",
       "    <tr>\n",
       "      <th>30559</th>\n",
       "      <td>JOB1362684438246</td>\n",
       "      <td>COMP44</td>\n",
       "      <td>JUNIOR</td>\n",
       "      <td>DOCTORAL</td>\n",
       "      <td>MATH</td>\n",
       "      <td>AUTO</td>\n",
       "      <td>11</td>\n",
       "      <td>7</td>\n",
       "      <td>0</td>\n",
       "    </tr>\n",
       "    <tr>\n",
       "      <th>495984</th>\n",
       "      <td>JOB1362684903671</td>\n",
       "      <td>COMP34</td>\n",
       "      <td>JUNIOR</td>\n",
       "      <td>NONE</td>\n",
       "      <td>NONE</td>\n",
       "      <td>OIL</td>\n",
       "      <td>1</td>\n",
       "      <td>25</td>\n",
       "      <td>0</td>\n",
       "    </tr>\n",
       "    <tr>\n",
       "      <th>652076</th>\n",
       "      <td>JOB1362685059763</td>\n",
       "      <td>COMP25</td>\n",
       "      <td>CTO</td>\n",
       "      <td>HIGH_SCHOOL</td>\n",
       "      <td>NONE</td>\n",
       "      <td>AUTO</td>\n",
       "      <td>6</td>\n",
       "      <td>60</td>\n",
       "      <td>0</td>\n",
       "    </tr>\n",
       "    <tr>\n",
       "      <th>816129</th>\n",
       "      <td>JOB1362685223816</td>\n",
       "      <td>COMP42</td>\n",
       "      <td>MANAGER</td>\n",
       "      <td>DOCTORAL</td>\n",
       "      <td>ENGINEERING</td>\n",
       "      <td>FINANCE</td>\n",
       "      <td>18</td>\n",
       "      <td>6</td>\n",
       "      <td>0</td>\n",
       "    </tr>\n",
       "    <tr>\n",
       "      <th>828156</th>\n",
       "      <td>JOB1362685235843</td>\n",
       "      <td>COMP40</td>\n",
       "      <td>VICE_PRESIDENT</td>\n",
       "      <td>MASTERS</td>\n",
       "      <td>ENGINEERING</td>\n",
       "      <td>WEB</td>\n",
       "      <td>3</td>\n",
       "      <td>29</td>\n",
       "      <td>0</td>\n",
       "    </tr>\n",
       "  </tbody>\n",
       "</table>\n",
       "</div>"
      ],
      "text/plain": [
       "                   jobId companyId  ... milesFromMetropolis salary\n",
       "30559   JOB1362684438246    COMP44  ...                   7      0\n",
       "495984  JOB1362684903671    COMP34  ...                  25      0\n",
       "652076  JOB1362685059763    COMP25  ...                  60      0\n",
       "816129  JOB1362685223816    COMP42  ...                   6      0\n",
       "828156  JOB1362685235843    COMP40  ...                  29      0\n",
       "\n",
       "[5 rows x 9 columns]"
      ]
     },
     "execution_count": 16,
     "metadata": {
      "tags": []
     },
     "output_type": "execute_result"
    }
   ],
   "source": [
    "#checking lower bound suspected outliers \n",
    "merged_train_data[merged_train_data.salary < 8.5]"
   ]
  },
  {
   "cell_type": "markdown",
   "metadata": {
    "colab_type": "text",
    "id": "cwMal0QuQlZl"
   },
   "source": [
    "Findings: All these are invalid data considering the various jobtypes are more likely not to be volunteers. Hence the data needs to be dropped."
   ]
  },
  {
   "cell_type": "code",
   "execution_count": 17,
   "metadata": {
    "colab": {
     "base_uri": "https://localhost:8080/",
     "height": 34
    },
    "colab_type": "code",
    "executionInfo": {
     "elapsed": 1176,
     "status": "ok",
     "timestamp": 1599660569973,
     "user": {
      "displayName": "Dapo Laniya",
      "photoUrl": "",
      "userId": "07293732013348809745"
     },
     "user_tz": 240
    },
    "id": "x_uwmLQ6QlZl",
    "outputId": "482875fd-dab0-4c6e-bb09-ede247701181"
   },
   "outputs": [
    {
     "data": {
      "text/plain": [
       "(999995, 9)"
      ]
     },
     "execution_count": 17,
     "metadata": {
      "tags": []
     },
     "output_type": "execute_result"
    }
   ],
   "source": [
    "#dropping invalid salary values and confirm data dropped.\n",
    "merged_train_data.drop(merged_train_data[merged_train_data.salary <8.5].index, inplace=True)\n",
    "merged_train_data.shape"
   ]
  },
  {
   "cell_type": "code",
   "execution_count": 18,
   "metadata": {
    "colab": {
     "base_uri": "https://localhost:8080/",
     "height": 170
    },
    "colab_type": "code",
    "executionInfo": {
     "elapsed": 1173,
     "status": "ok",
     "timestamp": 1599660575418,
     "user": {
      "displayName": "Dapo Laniya",
      "photoUrl": "",
      "userId": "07293732013348809745"
     },
     "user_tz": 240
    },
    "id": "zSU2x_I9QlZp",
    "outputId": "095ab656-8dc5-4000-bd66-bdc379e59de7"
   },
   "outputs": [
    {
     "data": {
      "text/plain": [
       "CEO               3227\n",
       "CFO               1496\n",
       "CTO               1488\n",
       "VICE_PRESIDENT     603\n",
       "MANAGER            217\n",
       "SENIOR              66\n",
       "JUNIOR              20\n",
       "JANITOR              0\n",
       "Name: jobType, dtype: int64"
      ]
     },
     "execution_count": 18,
     "metadata": {
      "tags": []
     },
     "output_type": "execute_result"
    }
   ],
   "source": [
    "#checking upper bound suspected outliers \n",
    "merged_train_data.loc[merged_train_data.salary > 220.5, 'jobType'].value_counts()"
   ]
  },
  {
   "cell_type": "markdown",
   "metadata": {
    "colab_type": "text",
    "id": "VjUpH-lFQlZz"
   },
   "source": [
    "Findings: Asides the Junior roles, all the other job types are senior level hence expected to be high earners. Inspect the Junior type roles to confirm."
   ]
  },
  {
   "cell_type": "code",
   "execution_count": 19,
   "metadata": {
    "colab": {
     "base_uri": "https://localhost:8080/",
     "height": 669
    },
    "colab_type": "code",
    "executionInfo": {
     "elapsed": 525,
     "status": "ok",
     "timestamp": 1599660586770,
     "user": {
      "displayName": "Dapo Laniya",
      "photoUrl": "",
      "userId": "07293732013348809745"
     },
     "user_tz": 240
    },
    "id": "arxWxSWuQlZ1",
    "outputId": "46275415-535f-4e5f-c50c-0c1bb8e335f5"
   },
   "outputs": [
    {
     "data": {
      "text/html": [
       "<div>\n",
       "<style scoped>\n",
       "    .dataframe tbody tr th:only-of-type {\n",
       "        vertical-align: middle;\n",
       "    }\n",
       "\n",
       "    .dataframe tbody tr th {\n",
       "        vertical-align: top;\n",
       "    }\n",
       "\n",
       "    .dataframe thead th {\n",
       "        text-align: right;\n",
       "    }\n",
       "</style>\n",
       "<table border=\"1\" class=\"dataframe\">\n",
       "  <thead>\n",
       "    <tr style=\"text-align: right;\">\n",
       "      <th></th>\n",
       "      <th>jobId</th>\n",
       "      <th>companyId</th>\n",
       "      <th>jobType</th>\n",
       "      <th>degree</th>\n",
       "      <th>major</th>\n",
       "      <th>industry</th>\n",
       "      <th>yearsExperience</th>\n",
       "      <th>milesFromMetropolis</th>\n",
       "      <th>salary</th>\n",
       "    </tr>\n",
       "  </thead>\n",
       "  <tbody>\n",
       "    <tr>\n",
       "      <th>1222</th>\n",
       "      <td>JOB1362684408909</td>\n",
       "      <td>COMP40</td>\n",
       "      <td>JUNIOR</td>\n",
       "      <td>MASTERS</td>\n",
       "      <td>COMPSCI</td>\n",
       "      <td>OIL</td>\n",
       "      <td>24</td>\n",
       "      <td>5</td>\n",
       "      <td>225</td>\n",
       "    </tr>\n",
       "    <tr>\n",
       "      <th>27710</th>\n",
       "      <td>JOB1362684435397</td>\n",
       "      <td>COMP21</td>\n",
       "      <td>JUNIOR</td>\n",
       "      <td>DOCTORAL</td>\n",
       "      <td>ENGINEERING</td>\n",
       "      <td>OIL</td>\n",
       "      <td>24</td>\n",
       "      <td>3</td>\n",
       "      <td>246</td>\n",
       "    </tr>\n",
       "    <tr>\n",
       "      <th>31355</th>\n",
       "      <td>JOB1362684439042</td>\n",
       "      <td>COMP45</td>\n",
       "      <td>JUNIOR</td>\n",
       "      <td>DOCTORAL</td>\n",
       "      <td>COMPSCI</td>\n",
       "      <td>FINANCE</td>\n",
       "      <td>24</td>\n",
       "      <td>0</td>\n",
       "      <td>225</td>\n",
       "    </tr>\n",
       "    <tr>\n",
       "      <th>100042</th>\n",
       "      <td>JOB1362684507729</td>\n",
       "      <td>COMP17</td>\n",
       "      <td>JUNIOR</td>\n",
       "      <td>DOCTORAL</td>\n",
       "      <td>BUSINESS</td>\n",
       "      <td>FINANCE</td>\n",
       "      <td>23</td>\n",
       "      <td>8</td>\n",
       "      <td>248</td>\n",
       "    </tr>\n",
       "    <tr>\n",
       "      <th>160333</th>\n",
       "      <td>JOB1362684568020</td>\n",
       "      <td>COMP18</td>\n",
       "      <td>JUNIOR</td>\n",
       "      <td>DOCTORAL</td>\n",
       "      <td>BUSINESS</td>\n",
       "      <td>FINANCE</td>\n",
       "      <td>22</td>\n",
       "      <td>3</td>\n",
       "      <td>223</td>\n",
       "    </tr>\n",
       "    <tr>\n",
       "      <th>189582</th>\n",
       "      <td>JOB1362684597269</td>\n",
       "      <td>COMP32</td>\n",
       "      <td>JUNIOR</td>\n",
       "      <td>DOCTORAL</td>\n",
       "      <td>BUSINESS</td>\n",
       "      <td>OIL</td>\n",
       "      <td>24</td>\n",
       "      <td>11</td>\n",
       "      <td>221</td>\n",
       "    </tr>\n",
       "    <tr>\n",
       "      <th>214606</th>\n",
       "      <td>JOB1362684622293</td>\n",
       "      <td>COMP47</td>\n",
       "      <td>JUNIOR</td>\n",
       "      <td>MASTERS</td>\n",
       "      <td>BUSINESS</td>\n",
       "      <td>FINANCE</td>\n",
       "      <td>22</td>\n",
       "      <td>4</td>\n",
       "      <td>222</td>\n",
       "    </tr>\n",
       "    <tr>\n",
       "      <th>303778</th>\n",
       "      <td>JOB1362684711465</td>\n",
       "      <td>COMP51</td>\n",
       "      <td>JUNIOR</td>\n",
       "      <td>MASTERS</td>\n",
       "      <td>ENGINEERING</td>\n",
       "      <td>WEB</td>\n",
       "      <td>24</td>\n",
       "      <td>2</td>\n",
       "      <td>226</td>\n",
       "    </tr>\n",
       "    <tr>\n",
       "      <th>348354</th>\n",
       "      <td>JOB1362684756041</td>\n",
       "      <td>COMP56</td>\n",
       "      <td>JUNIOR</td>\n",
       "      <td>DOCTORAL</td>\n",
       "      <td>ENGINEERING</td>\n",
       "      <td>OIL</td>\n",
       "      <td>23</td>\n",
       "      <td>25</td>\n",
       "      <td>226</td>\n",
       "    </tr>\n",
       "    <tr>\n",
       "      <th>427593</th>\n",
       "      <td>JOB1362684835280</td>\n",
       "      <td>COMP54</td>\n",
       "      <td>JUNIOR</td>\n",
       "      <td>DOCTORAL</td>\n",
       "      <td>ENGINEERING</td>\n",
       "      <td>FINANCE</td>\n",
       "      <td>23</td>\n",
       "      <td>3</td>\n",
       "      <td>221</td>\n",
       "    </tr>\n",
       "    <tr>\n",
       "      <th>500739</th>\n",
       "      <td>JOB1362684908426</td>\n",
       "      <td>COMP40</td>\n",
       "      <td>JUNIOR</td>\n",
       "      <td>DOCTORAL</td>\n",
       "      <td>ENGINEERING</td>\n",
       "      <td>OIL</td>\n",
       "      <td>21</td>\n",
       "      <td>0</td>\n",
       "      <td>227</td>\n",
       "    </tr>\n",
       "    <tr>\n",
       "      <th>627534</th>\n",
       "      <td>JOB1362685035221</td>\n",
       "      <td>COMP5</td>\n",
       "      <td>JUNIOR</td>\n",
       "      <td>DOCTORAL</td>\n",
       "      <td>ENGINEERING</td>\n",
       "      <td>OIL</td>\n",
       "      <td>24</td>\n",
       "      <td>29</td>\n",
       "      <td>230</td>\n",
       "    </tr>\n",
       "    <tr>\n",
       "      <th>645555</th>\n",
       "      <td>JOB1362685053242</td>\n",
       "      <td>COMP36</td>\n",
       "      <td>JUNIOR</td>\n",
       "      <td>DOCTORAL</td>\n",
       "      <td>BUSINESS</td>\n",
       "      <td>FINANCE</td>\n",
       "      <td>24</td>\n",
       "      <td>1</td>\n",
       "      <td>225</td>\n",
       "    </tr>\n",
       "    <tr>\n",
       "      <th>656572</th>\n",
       "      <td>JOB1362685064259</td>\n",
       "      <td>COMP28</td>\n",
       "      <td>JUNIOR</td>\n",
       "      <td>DOCTORAL</td>\n",
       "      <td>BUSINESS</td>\n",
       "      <td>OIL</td>\n",
       "      <td>22</td>\n",
       "      <td>3</td>\n",
       "      <td>222</td>\n",
       "    </tr>\n",
       "    <tr>\n",
       "      <th>685775</th>\n",
       "      <td>JOB1362685093462</td>\n",
       "      <td>COMP38</td>\n",
       "      <td>JUNIOR</td>\n",
       "      <td>BACHELORS</td>\n",
       "      <td>ENGINEERING</td>\n",
       "      <td>OIL</td>\n",
       "      <td>24</td>\n",
       "      <td>13</td>\n",
       "      <td>225</td>\n",
       "    </tr>\n",
       "    <tr>\n",
       "      <th>743326</th>\n",
       "      <td>JOB1362685151013</td>\n",
       "      <td>COMP14</td>\n",
       "      <td>JUNIOR</td>\n",
       "      <td>DOCTORAL</td>\n",
       "      <td>BUSINESS</td>\n",
       "      <td>FINANCE</td>\n",
       "      <td>19</td>\n",
       "      <td>0</td>\n",
       "      <td>236</td>\n",
       "    </tr>\n",
       "    <tr>\n",
       "      <th>787674</th>\n",
       "      <td>JOB1362685195361</td>\n",
       "      <td>COMP43</td>\n",
       "      <td>JUNIOR</td>\n",
       "      <td>DOCTORAL</td>\n",
       "      <td>BUSINESS</td>\n",
       "      <td>FINANCE</td>\n",
       "      <td>18</td>\n",
       "      <td>15</td>\n",
       "      <td>232</td>\n",
       "    </tr>\n",
       "    <tr>\n",
       "      <th>796956</th>\n",
       "      <td>JOB1362685204643</td>\n",
       "      <td>COMP30</td>\n",
       "      <td>JUNIOR</td>\n",
       "      <td>MASTERS</td>\n",
       "      <td>BUSINESS</td>\n",
       "      <td>OIL</td>\n",
       "      <td>24</td>\n",
       "      <td>2</td>\n",
       "      <td>228</td>\n",
       "    </tr>\n",
       "    <tr>\n",
       "      <th>855219</th>\n",
       "      <td>JOB1362685262906</td>\n",
       "      <td>COMP13</td>\n",
       "      <td>JUNIOR</td>\n",
       "      <td>MASTERS</td>\n",
       "      <td>ENGINEERING</td>\n",
       "      <td>OIL</td>\n",
       "      <td>22</td>\n",
       "      <td>26</td>\n",
       "      <td>225</td>\n",
       "    </tr>\n",
       "    <tr>\n",
       "      <th>954368</th>\n",
       "      <td>JOB1362685362055</td>\n",
       "      <td>COMP11</td>\n",
       "      <td>JUNIOR</td>\n",
       "      <td>DOCTORAL</td>\n",
       "      <td>BUSINESS</td>\n",
       "      <td>OIL</td>\n",
       "      <td>24</td>\n",
       "      <td>26</td>\n",
       "      <td>223</td>\n",
       "    </tr>\n",
       "  </tbody>\n",
       "</table>\n",
       "</div>"
      ],
      "text/plain": [
       "                   jobId companyId  ... milesFromMetropolis salary\n",
       "1222    JOB1362684408909    COMP40  ...                   5    225\n",
       "27710   JOB1362684435397    COMP21  ...                   3    246\n",
       "31355   JOB1362684439042    COMP45  ...                   0    225\n",
       "100042  JOB1362684507729    COMP17  ...                   8    248\n",
       "160333  JOB1362684568020    COMP18  ...                   3    223\n",
       "189582  JOB1362684597269    COMP32  ...                  11    221\n",
       "214606  JOB1362684622293    COMP47  ...                   4    222\n",
       "303778  JOB1362684711465    COMP51  ...                   2    226\n",
       "348354  JOB1362684756041    COMP56  ...                  25    226\n",
       "427593  JOB1362684835280    COMP54  ...                   3    221\n",
       "500739  JOB1362684908426    COMP40  ...                   0    227\n",
       "627534  JOB1362685035221     COMP5  ...                  29    230\n",
       "645555  JOB1362685053242    COMP36  ...                   1    225\n",
       "656572  JOB1362685064259    COMP28  ...                   3    222\n",
       "685775  JOB1362685093462    COMP38  ...                  13    225\n",
       "743326  JOB1362685151013    COMP14  ...                   0    236\n",
       "787674  JOB1362685195361    COMP43  ...                  15    232\n",
       "796956  JOB1362685204643    COMP30  ...                   2    228\n",
       "855219  JOB1362685262906    COMP13  ...                  26    225\n",
       "954368  JOB1362685362055    COMP11  ...                  26    223\n",
       "\n",
       "[20 rows x 9 columns]"
      ]
     },
     "execution_count": 19,
     "metadata": {
      "tags": []
     },
     "output_type": "execute_result"
    }
   ],
   "source": [
    "#checking upper bound most suspicious potential outliers\n",
    "merged_train_data[(merged_train_data.salary > 220.5) & (merged_train_data.jobType == 'JUNIOR')]"
   ]
  },
  {
   "cell_type": "markdown",
   "metadata": {
    "colab_type": "text",
    "id": "eodwX-2HQlZ8"
   },
   "source": [
    "Findings: The Junior job types are for individuals with high degrees, high years of experience and industries with typical high compensation rates. Hence they will be retained in the data."
   ]
  },
  {
   "cell_type": "markdown",
   "metadata": {
    "colab_type": "text",
    "id": "WRn4sGWHQlZ9"
   },
   "source": [
    "### 2.4 EDA - Data Exploration"
   ]
  },
  {
   "cell_type": "markdown",
   "metadata": {
    "colab_type": "text",
    "id": "qSfJ4_tjQlZ_"
   },
   "source": [
    "2.4.1 Summary of Feature and Target Variables"
   ]
  },
  {
   "cell_type": "code",
   "execution_count": 20,
   "metadata": {
    "colab": {
     "base_uri": "https://localhost:8080/",
     "height": 390
    },
    "colab_type": "code",
    "executionInfo": {
     "elapsed": 2807,
     "status": "ok",
     "timestamp": 1599660597509,
     "user": {
      "displayName": "Dapo Laniya",
      "photoUrl": "",
      "userId": "07293732013348809745"
     },
     "user_tz": 240
    },
    "id": "aHeMMVcDQlaA",
    "outputId": "f2072368-415e-449b-ccb6-c46828602c77"
   },
   "outputs": [
    {
     "data": {
      "text/html": [
       "<div>\n",
       "<style scoped>\n",
       "    .dataframe tbody tr th:only-of-type {\n",
       "        vertical-align: middle;\n",
       "    }\n",
       "\n",
       "    .dataframe tbody tr th {\n",
       "        vertical-align: top;\n",
       "    }\n",
       "\n",
       "    .dataframe thead th {\n",
       "        text-align: right;\n",
       "    }\n",
       "</style>\n",
       "<table border=\"1\" class=\"dataframe\">\n",
       "  <thead>\n",
       "    <tr style=\"text-align: right;\">\n",
       "      <th></th>\n",
       "      <th>jobId</th>\n",
       "      <th>companyId</th>\n",
       "      <th>jobType</th>\n",
       "      <th>degree</th>\n",
       "      <th>major</th>\n",
       "      <th>industry</th>\n",
       "      <th>yearsExperience</th>\n",
       "      <th>milesFromMetropolis</th>\n",
       "      <th>salary</th>\n",
       "    </tr>\n",
       "  </thead>\n",
       "  <tbody>\n",
       "    <tr>\n",
       "      <th>count</th>\n",
       "      <td>999995</td>\n",
       "      <td>999995</td>\n",
       "      <td>999995</td>\n",
       "      <td>999995</td>\n",
       "      <td>999995</td>\n",
       "      <td>999995</td>\n",
       "      <td>999995.000000</td>\n",
       "      <td>999995.000000</td>\n",
       "      <td>999995.000000</td>\n",
       "    </tr>\n",
       "    <tr>\n",
       "      <th>unique</th>\n",
       "      <td>999995</td>\n",
       "      <td>63</td>\n",
       "      <td>8</td>\n",
       "      <td>5</td>\n",
       "      <td>9</td>\n",
       "      <td>7</td>\n",
       "      <td>NaN</td>\n",
       "      <td>NaN</td>\n",
       "      <td>NaN</td>\n",
       "    </tr>\n",
       "    <tr>\n",
       "      <th>top</th>\n",
       "      <td>JOB1362685059169</td>\n",
       "      <td>COMP39</td>\n",
       "      <td>SENIOR</td>\n",
       "      <td>HIGH_SCHOOL</td>\n",
       "      <td>NONE</td>\n",
       "      <td>WEB</td>\n",
       "      <td>NaN</td>\n",
       "      <td>NaN</td>\n",
       "      <td>NaN</td>\n",
       "    </tr>\n",
       "    <tr>\n",
       "      <th>freq</th>\n",
       "      <td>1</td>\n",
       "      <td>16193</td>\n",
       "      <td>125886</td>\n",
       "      <td>236975</td>\n",
       "      <td>532353</td>\n",
       "      <td>143205</td>\n",
       "      <td>NaN</td>\n",
       "      <td>NaN</td>\n",
       "      <td>NaN</td>\n",
       "    </tr>\n",
       "    <tr>\n",
       "      <th>mean</th>\n",
       "      <td>NaN</td>\n",
       "      <td>NaN</td>\n",
       "      <td>NaN</td>\n",
       "      <td>NaN</td>\n",
       "      <td>NaN</td>\n",
       "      <td>NaN</td>\n",
       "      <td>11.992407</td>\n",
       "      <td>49.529381</td>\n",
       "      <td>116.062398</td>\n",
       "    </tr>\n",
       "    <tr>\n",
       "      <th>std</th>\n",
       "      <td>NaN</td>\n",
       "      <td>NaN</td>\n",
       "      <td>NaN</td>\n",
       "      <td>NaN</td>\n",
       "      <td>NaN</td>\n",
       "      <td>NaN</td>\n",
       "      <td>7.212390</td>\n",
       "      <td>28.877721</td>\n",
       "      <td>38.717163</td>\n",
       "    </tr>\n",
       "    <tr>\n",
       "      <th>min</th>\n",
       "      <td>NaN</td>\n",
       "      <td>NaN</td>\n",
       "      <td>NaN</td>\n",
       "      <td>NaN</td>\n",
       "      <td>NaN</td>\n",
       "      <td>NaN</td>\n",
       "      <td>0.000000</td>\n",
       "      <td>0.000000</td>\n",
       "      <td>17.000000</td>\n",
       "    </tr>\n",
       "    <tr>\n",
       "      <th>25%</th>\n",
       "      <td>NaN</td>\n",
       "      <td>NaN</td>\n",
       "      <td>NaN</td>\n",
       "      <td>NaN</td>\n",
       "      <td>NaN</td>\n",
       "      <td>NaN</td>\n",
       "      <td>6.000000</td>\n",
       "      <td>25.000000</td>\n",
       "      <td>88.000000</td>\n",
       "    </tr>\n",
       "    <tr>\n",
       "      <th>50%</th>\n",
       "      <td>NaN</td>\n",
       "      <td>NaN</td>\n",
       "      <td>NaN</td>\n",
       "      <td>NaN</td>\n",
       "      <td>NaN</td>\n",
       "      <td>NaN</td>\n",
       "      <td>12.000000</td>\n",
       "      <td>50.000000</td>\n",
       "      <td>114.000000</td>\n",
       "    </tr>\n",
       "    <tr>\n",
       "      <th>75%</th>\n",
       "      <td>NaN</td>\n",
       "      <td>NaN</td>\n",
       "      <td>NaN</td>\n",
       "      <td>NaN</td>\n",
       "      <td>NaN</td>\n",
       "      <td>NaN</td>\n",
       "      <td>18.000000</td>\n",
       "      <td>75.000000</td>\n",
       "      <td>141.000000</td>\n",
       "    </tr>\n",
       "    <tr>\n",
       "      <th>max</th>\n",
       "      <td>NaN</td>\n",
       "      <td>NaN</td>\n",
       "      <td>NaN</td>\n",
       "      <td>NaN</td>\n",
       "      <td>NaN</td>\n",
       "      <td>NaN</td>\n",
       "      <td>24.000000</td>\n",
       "      <td>99.000000</td>\n",
       "      <td>301.000000</td>\n",
       "    </tr>\n",
       "  </tbody>\n",
       "</table>\n",
       "</div>"
      ],
      "text/plain": [
       "                   jobId companyId  ... milesFromMetropolis         salary\n",
       "count             999995    999995  ...       999995.000000  999995.000000\n",
       "unique            999995        63  ...                 NaN            NaN\n",
       "top     JOB1362685059169    COMP39  ...                 NaN            NaN\n",
       "freq                   1     16193  ...                 NaN            NaN\n",
       "mean                 NaN       NaN  ...           49.529381     116.062398\n",
       "std                  NaN       NaN  ...           28.877721      38.717163\n",
       "min                  NaN       NaN  ...            0.000000      17.000000\n",
       "25%                  NaN       NaN  ...           25.000000      88.000000\n",
       "50%                  NaN       NaN  ...           50.000000     114.000000\n",
       "75%                  NaN       NaN  ...           75.000000     141.000000\n",
       "max                  NaN       NaN  ...           99.000000     301.000000\n",
       "\n",
       "[11 rows x 9 columns]"
      ]
     },
     "execution_count": 20,
     "metadata": {
      "tags": []
     },
     "output_type": "execute_result"
    }
   ],
   "source": [
    "#summarize variables\n",
    "merged_train_data.describe(include = \"all\")"
   ]
  },
  {
   "cell_type": "markdown",
   "metadata": {
    "colab_type": "text",
    "id": "rzAi4tGQQlaQ"
   },
   "source": [
    "2.4.2 Review correlation between each feature and the target variable"
   ]
  },
  {
   "cell_type": "code",
   "execution_count": 21,
   "metadata": {
    "colab": {},
    "colab_type": "code",
    "executionInfo": {
     "elapsed": 1702,
     "status": "ok",
     "timestamp": 1599660603524,
     "user": {
      "displayName": "Dapo Laniya",
      "photoUrl": "",
      "userId": "07293732013348809745"
     },
     "user_tz": 240
    },
    "id": "bYowWG2AQlaS"
   },
   "outputs": [],
   "source": [
    "# Function to create plots to check correlation of features with the target variable\n",
    "def feature_plot(df, col):\n",
    "    plt.figure(figsize = (14, 6))\n",
    "    plt.subplot(1, 2, 1)  \n",
    "\n",
    "    if df[col].dtype == 'int64':\n",
    "        df[col].value_counts().sort_index().plot()\n",
    "    elif col == 'companyId':\n",
    "        mean = df.groupby(col)['salary'].mean()\n",
    "        levels = mean.sort_values().index.tolist()\n",
    "        df[col].cat.reorder_categories(levels, inplace = True)\n",
    "        df[col].value_counts().plot()\n",
    "    else:\n",
    "        #change the categorical variable to category type and order their level by the mean salary\n",
    "        #in each category\n",
    "        frequency = df[col].value_counts()\n",
    "        sub_categories = pd.unique(df[col])\n",
    "        sns.barplot(x = sub_categories, y = frequency, data = df)\n",
    "    plt.xticks(rotation = 45)\n",
    "    plt.xlabel(col)\n",
    "    plt.ylabel('counts')\n",
    "    plt.subplot(1, 2, 2)\n",
    "    \n",
    "    if df[col].dtype == 'int64' or col == 'companyId':\n",
    "        mean = df.groupby(col)['salary'].mean()\n",
    "        std = df.groupby(col)['salary'].std()\n",
    "        mean.plot()\n",
    "        plt.fill_between(range(len(std.index)), mean.values-std.values, mean.values + std.values, \\\n",
    "                         alpha = 0.1)\n",
    "    else:\n",
    "        sns.boxplot(x = col, y = 'salary', data = df)\n",
    "        \n",
    "    plt.xticks(rotation = 45)\n",
    "    plt.ylabel('salaries')\n",
    "    plt.show()"
   ]
  },
  {
   "cell_type": "markdown",
   "metadata": {
    "colab_type": "text",
    "id": "j-uhRDjaQlal"
   },
   "source": [
    "2.4.2.1 Correlation between Companies (feature variable) and Salary (target variable)"
   ]
  },
  {
   "cell_type": "code",
   "execution_count": 22,
   "metadata": {
    "colab": {
     "base_uri": "https://localhost:8080/",
     "height": 378
    },
    "colab_type": "code",
    "executionInfo": {
     "elapsed": 1445,
     "status": "ok",
     "timestamp": 1599660610726,
     "user": {
      "displayName": "Dapo Laniya",
      "photoUrl": "",
      "userId": "07293732013348809745"
     },
     "user_tz": 240
    },
    "id": "HmHpI4BoQlan",
    "outputId": "a2f74b90-eeda-4e4b-b7db-8f758113573c"
   },
   "outputs": [
    {
     "data": {
      "image/png": "[encoded data removed]",
      "text/plain": [
       "<Figure size 1008x432 with 2 Axes>"
      ]
     },
     "metadata": {
      "needs_background": "light",
      "tags": []
     },
     "output_type": "display_data"
    }
   ],
   "source": [
    "feature_plot(merged_train_data, 'companyId')"
   ]
  },
  {
   "cell_type": "markdown",
   "metadata": {
    "colab_type": "text",
    "id": "6Kbp4XC3Qlas"
   },
   "source": [
    "Findings: There are 63 different companies with varying number of samples in the dataset. Plot shows that there is generally a weak correlation between companies and salaries. There is no significant increase in the mean salary across companies."
   ]
  },
  {
   "cell_type": "markdown",
   "metadata": {
    "colab_type": "text",
    "id": "j8MaR3gQQlat"
   },
   "source": [
    "2.4.2.2 Correlation between Job Types (feature variable) and Salary (target variable)"
   ]
  },
  {
   "cell_type": "code",
   "execution_count": 23,
   "metadata": {
    "colab": {
     "base_uri": "https://localhost:8080/",
     "height": 445
    },
    "colab_type": "code",
    "executionInfo": {
     "elapsed": 1370,
     "status": "ok",
     "timestamp": 1599660617770,
     "user": {
      "displayName": "Dapo Laniya",
      "photoUrl": "",
      "userId": "07293732013348809745"
     },
     "user_tz": 240
    },
    "id": "-ehVqLSYQlau",
    "outputId": "9774ad52-f782-489e-b821-59d17091e5e2"
   },
   "outputs": [
    {
     "data": {
      "image/png": "[encoded data removed]",
      "text/plain": [
       "<Figure size 1008x432 with 2 Axes>"
      ]
     },
     "metadata": {
      "needs_background": "light",
      "tags": []
     },
     "output_type": "display_data"
    }
   ],
   "source": [
    "feature_plot(merged_train_data, 'jobType')"
   ]
  },
  {
   "cell_type": "markdown",
   "metadata": {
    "colab_type": "text",
    "id": "NvmsDgiqQla2"
   },
   "source": [
    "Findings: There are 8 different job types with similar number of samples in the training dataset from junior level (janitor) to senior level Chief Executive Officer (CEO). As anticipated the plot shows salary bands increase relative to the level of role seniority in the organization which indicates a positive correlation between job type and salary. "
   ]
  },
  {
   "cell_type": "markdown",
   "metadata": {
    "colab_type": "text",
    "id": "PdBHDRW1Qla3"
   },
   "source": [
    "2.4.2.3 Correlation between Degrees (feature variable) and Salary (target variable)"
   ]
  },
  {
   "cell_type": "code",
   "execution_count": 24,
   "metadata": {
    "colab": {
     "base_uri": "https://localhost:8080/",
     "height": 437
    },
    "colab_type": "code",
    "executionInfo": {
     "elapsed": 1176,
     "status": "ok",
     "timestamp": 1599660623363,
     "user": {
      "displayName": "Dapo Laniya",
      "photoUrl": "",
      "userId": "07293732013348809745"
     },
     "user_tz": 240
    },
    "id": "IKCCTnZeQla5",
    "outputId": "b138ab97-1ac2-4caf-e48a-3d08c5abfb02"
   },
   "outputs": [
    {
     "data": {
      "image/png": "[encoded data removed]",
      "text/plain": [
       "<Figure size 1008x432 with 2 Axes>"
      ]
     },
     "metadata": {
      "needs_background": "light",
      "tags": []
     },
     "output_type": "display_data"
    }
   ],
   "source": [
    "feature_plot(merged_train_data, 'degree')"
   ]
  },
  {
   "cell_type": "code",
   "execution_count": 25,
   "metadata": {
    "colab": {
     "base_uri": "https://localhost:8080/",
     "height": 170
    },
    "colab_type": "code",
    "executionInfo": {
     "elapsed": 1289,
     "status": "ok",
     "timestamp": 1599660630605,
     "user": {
      "displayName": "Dapo Laniya",
      "photoUrl": "",
      "userId": "07293732013348809745"
     },
     "user_tz": 240
    },
    "id": "NdHWb7czQlbC",
    "outputId": "f1549867-4dcd-424e-a0e5-4d224500bcdd"
   },
   "outputs": [
    {
     "data": {
      "text/plain": [
       "JANITOR           62544\n",
       "SENIOR            25117\n",
       "MANAGER           25092\n",
       "CEO               24898\n",
       "CTO               24882\n",
       "VICE_PRESIDENT    24825\n",
       "JUNIOR            24781\n",
       "CFO               24714\n",
       "Name: jobType, dtype: int64"
      ]
     },
     "execution_count": 25,
     "metadata": {
      "tags": []
     },
     "output_type": "execute_result"
    }
   ],
   "source": [
    "merged_train_data.loc[merged_train_data.degree == 'NONE', 'jobType'].value_counts()"
   ]
  },
  {
   "cell_type": "markdown",
   "metadata": {
    "colab_type": "text",
    "id": "bL3VGhjtQlbL"
   },
   "source": [
    "Findings: There are 5 different levels of degrees with varying samples in the training dataset from No Degree (None) to Doctoral. The Janitors have the highest number of samples in the NONE degree category, which is understandable. The plot shows the more advanced degrees show a positive correlation to salary."
   ]
  },
  {
   "cell_type": "markdown",
   "metadata": {
    "colab_type": "text",
    "id": "jY930GtVQlbO"
   },
   "source": [
    "2.4.2.4 Correlation between Majors (feature variable) and Salary (target variable)"
   ]
  },
  {
   "cell_type": "code",
   "execution_count": 26,
   "metadata": {
    "colab": {
     "base_uri": "https://localhost:8080/",
     "height": 434
    },
    "colab_type": "code",
    "executionInfo": {
     "elapsed": 1337,
     "status": "ok",
     "timestamp": 1599660636850,
     "user": {
      "displayName": "Dapo Laniya",
      "photoUrl": "",
      "userId": "07293732013348809745"
     },
     "user_tz": 240
    },
    "id": "SaHD3UnBQlbP",
    "outputId": "3089a5dc-8bda-47a7-eece-b65b13342d46"
   },
   "outputs": [
    {
     "data": {
      "image/png": "[encoded data removed]",
      "text/plain": [
       "<Figure size 1008x432 with 2 Axes>"
      ]
     },
     "metadata": {
      "needs_background": "light",
      "tags": []
     },
     "output_type": "display_data"
    }
   ],
   "source": [
    "feature_plot(merged_train_data, 'major')"
   ]
  },
  {
   "cell_type": "code",
   "execution_count": 27,
   "metadata": {
    "colab": {
     "base_uri": "https://localhost:8080/",
     "height": 170
    },
    "colab_type": "code",
    "executionInfo": {
     "elapsed": 1344,
     "status": "ok",
     "timestamp": 1599660642497,
     "user": {
      "displayName": "Dapo Laniya",
      "photoUrl": "",
      "userId": "07293732013348809745"
     },
     "user_tz": 240
    },
    "id": "ytnWyock92yQ",
    "outputId": "1ed3dada-db13-4861-c14f-8263b53fe2c7"
   },
   "outputs": [
    {
     "data": {
      "text/plain": [
       "JANITOR           124971\n",
       "VICE_PRESIDENT     58463\n",
       "SENIOR             58378\n",
       "MANAGER            58288\n",
       "CTO                58160\n",
       "JUNIOR             58127\n",
       "CEO                58024\n",
       "CFO                57942\n",
       "Name: jobType, dtype: int64"
      ]
     },
     "execution_count": 27,
     "metadata": {
      "tags": []
     },
     "output_type": "execute_result"
    }
   ],
   "source": [
    "merged_train_data.loc[merged_train_data.major == 'NONE', 'jobType'].value_counts()"
   ]
  },
  {
   "cell_type": "markdown",
   "metadata": {
    "colab_type": "text",
    "id": "0nNPAH0hQlbe"
   },
   "source": [
    "Findings: There are 8 different major types and 1 type with no majors (None).  Data shows the NONE major type employees are mostly janitors. The plot shows weak correlation between Majors and Salary. The plot also shows the NONE major group are the lowest salary band as typically anticipated and there are more Maths major employees in the data set."
   ]
  },
  {
   "cell_type": "markdown",
   "metadata": {
    "colab_type": "text",
    "id": "4e1ZDSMHQlbf"
   },
   "source": [
    "2.4.2.5 Correlation between Industries (feature variable) and Salary (target variable)"
   ]
  },
  {
   "cell_type": "code",
   "execution_count": 28,
   "metadata": {
    "colab": {
     "base_uri": "https://localhost:8080/",
     "height": 426
    },
    "colab_type": "code",
    "executionInfo": {
     "elapsed": 1225,
     "status": "ok",
     "timestamp": 1599660649659,
     "user": {
      "displayName": "Dapo Laniya",
      "photoUrl": "",
      "userId": "07293732013348809745"
     },
     "user_tz": 240
    },
    "id": "ggODETEvQlbh",
    "outputId": "44145173-2fe0-4249-cadf-a83feec45591"
   },
   "outputs": [
    {
     "data": {
      "image/png": "[encoded data removed]",
      "text/plain": [
       "<Figure size 1008x432 with 2 Axes>"
      ]
     },
     "metadata": {
      "needs_background": "light",
      "tags": []
     },
     "output_type": "display_data"
    }
   ],
   "source": [
    "feature_plot(merged_train_data, 'industry')"
   ]
  },
  {
   "cell_type": "markdown",
   "metadata": {
    "colab_type": "text",
    "id": "LX-WNXnAQlbn"
   },
   "source": [
    "Findings: There are 7 industries with similar number of samples in the training dataset. Generally there is a weak correlation between industry and salary. The plot also shows oil and finance industries generally have higher compensation band."
   ]
  },
  {
   "cell_type": "markdown",
   "metadata": {
    "colab_type": "text",
    "id": "4a4XB-q5Qlbp"
   },
   "source": [
    "2.4.2.6 Correlation between Years of Experience (feature variable) and Salary (target variable)"
   ]
  },
  {
   "cell_type": "code",
   "execution_count": 29,
   "metadata": {
    "colab": {
     "base_uri": "https://localhost:8080/",
     "height": 394
    },
    "colab_type": "code",
    "executionInfo": {
     "elapsed": 1017,
     "status": "ok",
     "timestamp": 1599660656527,
     "user": {
      "displayName": "Dapo Laniya",
      "photoUrl": "",
      "userId": "07293732013348809745"
     },
     "user_tz": 240
    },
    "id": "EjtSiAFrQlbq",
    "outputId": "0f1628af-a874-4d2f-c9d1-00964af7266d"
   },
   "outputs": [
    {
     "data": {
      "image/png": "[encoded data removed]",
      "text/plain": [
       "<Figure size 1008x432 with 2 Axes>"
      ]
     },
     "metadata": {
      "needs_background": "light",
      "tags": []
     },
     "output_type": "display_data"
    }
   ],
   "source": [
    "feature_plot(merged_train_data, 'yearsExperience')"
   ]
  },
  {
   "cell_type": "markdown",
   "metadata": {
    "colab_type": "text",
    "id": "gLUuh8bDQlby"
   },
   "source": [
    "Findings: The years of experience range from 0 - 24 years across the training dataset. The plot shows a positive correlation between years of experience and salary."
   ]
  },
  {
   "cell_type": "markdown",
   "metadata": {
    "colab_type": "text",
    "id": "MG81TTEOQlbz"
   },
   "source": [
    "2.4.2.7 Correlation between Miles From Metropolis (feature variable) and Salary (target variable)"
   ]
  },
  {
   "cell_type": "code",
   "execution_count": 30,
   "metadata": {
    "colab": {
     "base_uri": "https://localhost:8080/",
     "height": 398
    },
    "colab_type": "code",
    "executionInfo": {
     "elapsed": 1423,
     "status": "ok",
     "timestamp": 1599660661726,
     "user": {
      "displayName": "Dapo Laniya",
      "photoUrl": "",
      "userId": "07293732013348809745"
     },
     "user_tz": 240
    },
    "id": "_l_AwdvjQlb0",
    "outputId": "10cc4b4f-4301-4539-ccb1-1d47e46028f4"
   },
   "outputs": [
    {
     "data": {
      "image/png": "[encoded data removed]",
      "text/plain": [
       "<Figure size 1008x432 with 2 Axes>"
      ]
     },
     "metadata": {
      "needs_background": "light",
      "tags": []
     },
     "output_type": "display_data"
    }
   ],
   "source": [
    "feature_plot(merged_train_data, 'milesFromMetropolis')"
   ]
  },
  {
   "cell_type": "markdown",
   "metadata": {
    "colab_type": "text",
    "id": "szLtyYYNQlcF"
   },
   "source": [
    "Findings: The farthest distance from metropolis in 99 miles. The plot shows a negative correlation between miles from metropolis and salary. "
   ]
  },
  {
   "cell_type": "markdown",
   "metadata": {
    "colab_type": "text",
    "id": "pxpRtjR3QlcG"
   },
   "source": [
    "2.4.3 Identify correlation between features"
   ]
  },
  {
   "cell_type": "markdown",
   "metadata": {
    "colab_type": "text",
    "id": "SGMdjH2RQlcH"
   },
   "source": [
    "The following function is applied to all columns of the dataframe and encodes the subcategories with the mean of the salary of each category respectively."
   ]
  },
  {
   "cell_type": "code",
   "execution_count": 31,
   "metadata": {
    "colab": {},
    "colab_type": "code",
    "executionInfo": {
     "elapsed": 1301,
     "status": "ok",
     "timestamp": 1599660668441,
     "user": {
      "displayName": "Dapo Laniya",
      "photoUrl": "",
      "userId": "07293732013348809745"
     },
     "user_tz": 240
    },
    "id": "Y5n_gr8eQlcI"
   },
   "outputs": [],
   "source": [
    "def encode_label(df, col):\n",
    "    cat_dict = {}\n",
    "    cats = df[col].cat.categories.tolist()\n",
    "    for cat in cats:\n",
    "        cat_dict[cat] = merged_train_data[merged_train_data[col] == cat]['salary'].mean()\n",
    "    df[col] = df[col].map(cat_dict)"
   ]
  },
  {
   "cell_type": "code",
   "execution_count": 32,
   "metadata": {
    "colab": {},
    "colab_type": "code",
    "executionInfo": {
     "elapsed": 871,
     "status": "ok",
     "timestamp": 1599660674591,
     "user": {
      "displayName": "Dapo Laniya",
      "photoUrl": "",
      "userId": "07293732013348809745"
     },
     "user_tz": 240
    },
    "id": "ybK5vLr2QlcO"
   },
   "outputs": [],
   "source": [
    "#Create a copy the train dataframe to use for analysis\n",
    "analysis_data = merged_train_data.copy()"
   ]
  },
  {
   "cell_type": "code",
   "execution_count": 33,
   "metadata": {
    "colab": {},
    "colab_type": "code",
    "executionInfo": {
     "elapsed": 1097,
     "status": "ok",
     "timestamp": 1599660677921,
     "user": {
      "displayName": "Dapo Laniya",
      "photoUrl": "",
      "userId": "07293732013348809745"
     },
     "user_tz": 240
    },
    "id": "ABVTdkpbQlcd"
   },
   "outputs": [],
   "source": [
    "#apply the encode_label function on categorical data\n",
    "for col in analysis_data.columns:\n",
    "  if analysis_data[col].dtype.name == 'category':\n",
    "    encode_label(analysis_data, col)"
   ]
  },
  {
   "cell_type": "code",
   "execution_count": 34,
   "metadata": {
    "colab": {
     "base_uri": "https://localhost:8080/",
     "height": 297
    },
    "colab_type": "code",
    "executionInfo": {
     "elapsed": 848,
     "status": "ok",
     "timestamp": 1599660682696,
     "user": {
      "displayName": "Dapo Laniya",
      "photoUrl": "",
      "userId": "07293732013348809745"
     },
     "user_tz": 240
    },
    "id": "EZkyqOgmQlco",
    "outputId": "8c8a5d4f-5781-41bd-c483-841a853aa592"
   },
   "outputs": [
    {
     "data": {
      "text/html": [
       "<div>\n",
       "<style scoped>\n",
       "    .dataframe tbody tr th:only-of-type {\n",
       "        vertical-align: middle;\n",
       "    }\n",
       "\n",
       "    .dataframe tbody tr th {\n",
       "        vertical-align: top;\n",
       "    }\n",
       "\n",
       "    .dataframe thead th {\n",
       "        text-align: right;\n",
       "    }\n",
       "</style>\n",
       "<table border=\"1\" class=\"dataframe\">\n",
       "  <thead>\n",
       "    <tr style=\"text-align: right;\">\n",
       "      <th></th>\n",
       "      <th>yearsExperience</th>\n",
       "      <th>milesFromMetropolis</th>\n",
       "      <th>salary</th>\n",
       "    </tr>\n",
       "  </thead>\n",
       "  <tbody>\n",
       "    <tr>\n",
       "      <th>count</th>\n",
       "      <td>999995.000000</td>\n",
       "      <td>999995.000000</td>\n",
       "      <td>999995.000000</td>\n",
       "    </tr>\n",
       "    <tr>\n",
       "      <th>mean</th>\n",
       "      <td>11.992407</td>\n",
       "      <td>49.529381</td>\n",
       "      <td>116.062398</td>\n",
       "    </tr>\n",
       "    <tr>\n",
       "      <th>std</th>\n",
       "      <td>7.212390</td>\n",
       "      <td>28.877721</td>\n",
       "      <td>38.717163</td>\n",
       "    </tr>\n",
       "    <tr>\n",
       "      <th>min</th>\n",
       "      <td>0.000000</td>\n",
       "      <td>0.000000</td>\n",
       "      <td>17.000000</td>\n",
       "    </tr>\n",
       "    <tr>\n",
       "      <th>25%</th>\n",
       "      <td>6.000000</td>\n",
       "      <td>25.000000</td>\n",
       "      <td>88.000000</td>\n",
       "    </tr>\n",
       "    <tr>\n",
       "      <th>50%</th>\n",
       "      <td>12.000000</td>\n",
       "      <td>50.000000</td>\n",
       "      <td>114.000000</td>\n",
       "    </tr>\n",
       "    <tr>\n",
       "      <th>75%</th>\n",
       "      <td>18.000000</td>\n",
       "      <td>75.000000</td>\n",
       "      <td>141.000000</td>\n",
       "    </tr>\n",
       "    <tr>\n",
       "      <th>max</th>\n",
       "      <td>24.000000</td>\n",
       "      <td>99.000000</td>\n",
       "      <td>301.000000</td>\n",
       "    </tr>\n",
       "  </tbody>\n",
       "</table>\n",
       "</div>"
      ],
      "text/plain": [
       "       yearsExperience  milesFromMetropolis         salary\n",
       "count    999995.000000        999995.000000  999995.000000\n",
       "mean         11.992407            49.529381     116.062398\n",
       "std           7.212390            28.877721      38.717163\n",
       "min           0.000000             0.000000      17.000000\n",
       "25%           6.000000            25.000000      88.000000\n",
       "50%          12.000000            50.000000     114.000000\n",
       "75%          18.000000            75.000000     141.000000\n",
       "max          24.000000            99.000000     301.000000"
      ]
     },
     "execution_count": 34,
     "metadata": {
      "tags": []
     },
     "output_type": "execute_result"
    }
   ],
   "source": [
    "analysis_data.describe()"
   ]
  },
  {
   "cell_type": "code",
   "execution_count": 35,
   "metadata": {
    "colab": {
     "base_uri": "https://localhost:8080/",
     "height": 677
    },
    "colab_type": "code",
    "executionInfo": {
     "elapsed": 1408,
     "status": "ok",
     "timestamp": 1599660687495,
     "user": {
      "displayName": "Dapo Laniya",
      "photoUrl": "",
      "userId": "07293732013348809745"
     },
     "user_tz": 240
    },
    "id": "78WmqAL_Qlcx",
    "outputId": "68a0efb0-1153-4ddf-af5c-9fcf16281b1b"
   },
   "outputs": [
    {
     "data": {
      "image/png": "[encoded data removed]",
      "text/plain": [
       "<Figure size 1440x720 with 2 Axes>"
      ]
     },
     "metadata": {
      "needs_background": "light",
      "tags": []
     },
     "output_type": "display_data"
    }
   ],
   "source": [
    "#Create Heatmap to highlight the correlations\n",
    "fig = plt.figure(figsize=(20, 10))\n",
    "features = ['companyId', 'jobType', 'degree', 'major', 'industry', 'yearsExperience', 'milesFromMetropolis']\n",
    "analysis_data[features] = analysis_data[features].astype(int)\n",
    "sns.heatmap(analysis_data[features + ['salary']].corr(), cmap='Greens', annot=True)\n",
    "plt.xticks(rotation=45)\n",
    "plt.title('Correlation Matrix Heatmap')\n",
    "plt.show()"
   ]
  },
  {
   "cell_type": "markdown",
   "metadata": {
    "colab_type": "text",
    "id": "kv0NGtf2Qlc7"
   },
   "source": [
    "Findings: The heatmap shows Major and Degree have the highest positive strong correlation whilst Jobtype is moderately correlated to Degree and Major. JobType has the strongest correlation with salary, then degree, major and yearsExperience in that correlation order."
   ]
  },
  {
   "cell_type": "markdown",
   "metadata": {
    "colab_type": "text",
    "id": "UgkVx7nAQlc8"
   },
   "source": [
    "### 2.5 Establish a baseline"
   ]
  },
  {
   "cell_type": "markdown",
   "metadata": {
    "colab_type": "text",
    "id": "ynW6sQjqQlc-"
   },
   "source": [
    "2.5.1 First step is to create a simple baseline model. Job Type has the strongest correlation to salary hence we wil utilise the average salary based on jobType subcategories as our prediction algorithm and then measure the result using MSE as the metric."
   ]
  },
  {
   "cell_type": "code",
   "execution_count": 36,
   "metadata": {
    "colab": {},
    "colab_type": "code",
    "executionInfo": {
     "elapsed": 985,
     "status": "ok",
     "timestamp": 1599660693828,
     "user": {
      "displayName": "Dapo Laniya",
      "photoUrl": "",
      "userId": "07293732013348809745"
     },
     "user_tz": 240
    },
    "id": "7GWpkYrBQlc_"
   },
   "outputs": [],
   "source": [
    "# This function predicts salary based on subcategories of a given categorical feature\n",
    "def average_based_salary_predictor(df, col):\n",
    "    cat_dict = {}\n",
    "    salary_prediction = []\n",
    "    cats = df[col].cat.categories.tolist()\n",
    "    for cat in cats:\n",
    "        cat_dict[cat] = merged_train_data[merged_train_data[col] == cat]['salary'].mean()\n",
    "    salary_prediction = df[col].map(cat_dict)\n",
    "    return salary_prediction"
   ]
  },
  {
   "cell_type": "code",
   "execution_count": 37,
   "metadata": {
    "colab": {
     "base_uri": "https://localhost:8080/",
     "height": 34
    },
    "colab_type": "code",
    "executionInfo": {
     "elapsed": 714,
     "status": "ok",
     "timestamp": 1599660698629,
     "user": {
      "displayName": "Dapo Laniya",
      "photoUrl": "",
      "userId": "07293732013348809745"
     },
     "user_tz": 240
    },
    "id": "MIKdFmF6QldM",
    "outputId": "164b2031-bb3c-458a-c910-a0fe8ecd4128"
   },
   "outputs": [
    {
     "name": "stdout",
     "output_type": "stream",
     "text": [
      "The baseline mean squared error = 963.9252996562975\n"
     ]
    }
   ],
   "source": [
    "# We apply the function on job type and calculate the score\n",
    "baseline_mse = mse(merged_train_data['salary'], average_based_salary_predictor(merged_train_data, 'jobType'))\n",
    "print('The baseline mean squared error =',baseline_mse )"
   ]
  },
  {
   "cell_type": "markdown",
   "metadata": {
    "colab_type": "text",
    "id": "7Dt9cVdUQldW"
   },
   "source": [
    "With a baseline mean squared error established, our next task is to improve the score."
   ]
  },
  {
   "cell_type": "markdown",
   "metadata": {
    "colab_type": "text",
    "id": "jeZTvMoSQldX"
   },
   "source": [
    "### 2.6 Hypothesize Solution"
   ]
  },
  {
   "cell_type": "markdown",
   "metadata": {
    "colab_type": "text",
    "id": "CXyUsqGWQldY"
   },
   "source": [
    "Considering the baseline model salary prediction is based on data provided without fitting, feature generation or model tuning we will utilize supervised machine learning algorithms to improve the accuracy of the predicted salaries.\n",
    "\n",
    "The salary prediction expected output is a continuous value hence we will use from the suite of regression supervised learning algorithms. \n",
    "\n",
    "1. Linear Regression - simple to implement and easier to interpret the output coefficients.\n",
    "2. Linear Regression with Interaction variables - explore the significance of relationships between various features.\n",
    "3. Random Forest Regressor - improves the accuracy by reducing overfitting problem and the variance in decision trees.\n",
    "4. GradientBoostingRegressor - Typically produces best predictions because it can optimize on different loss functions and provides several hyperparameter tuning options that make the function fit very flexible."
   ]
  },
  {
   "cell_type": "markdown",
   "metadata": {
    "colab_type": "text",
    "id": "xRDa1HkoQldb"
   },
   "source": [
    "## Part 3 - DEVELOP"
   ]
  },
  {
   "cell_type": "markdown",
   "metadata": {
    "colab_type": "text",
    "id": "VRWivsSyQldf"
   },
   "source": [
    "### 3.1 Feature Engineering "
   ]
  },
  {
   "cell_type": "markdown",
   "metadata": {
    "colab_type": "text",
    "id": "oY6ZZOdNQldg"
   },
   "source": [
    "Most machine learning models can only handle numerical values.\n",
    "\n",
    "In order to get the data ready for modelling we will transform categorical features into individual binary feature using the one hot encoding approach. "
   ]
  },
  {
   "cell_type": "code",
   "execution_count": 38,
   "metadata": {
    "colab": {},
    "colab_type": "code",
    "executionInfo": {
     "elapsed": 834,
     "status": "ok",
     "timestamp": 1599660704926,
     "user": {
      "displayName": "Dapo Laniya",
      "photoUrl": "",
      "userId": "07293732013348809745"
     },
     "user_tz": 240
    },
    "id": "Ug_-WA_WQldi"
   },
   "outputs": [],
   "source": [
    "#This function one-hot-encodes all the categorical features and combines them with numerical ones\n",
    "def one_hot_encode_data (df, cat_vars = None, num_vars = None):\n",
    "    cat_df = pd.get_dummies(df[['jobType', 'major', 'degree', 'industry']], drop_first=True)\n",
    "    num_df = df[['yearsExperience', 'milesFromMetropolis', 'salary']].apply(pd.to_numeric)\n",
    "    return pd.concat([cat_df, num_df], axis = 1, ignore_index = False)"
   ]
  },
  {
   "cell_type": "code",
   "execution_count": 39,
   "metadata": {
    "colab": {},
    "colab_type": "code",
    "executionInfo": {
     "elapsed": 781,
     "status": "ok",
     "timestamp": 1599660711157,
     "user": {
      "displayName": "Dapo Laniya",
      "photoUrl": "",
      "userId": "07293732013348809745"
     },
     "user_tz": 240
    },
    "id": "X315TkUKQldo"
   },
   "outputs": [],
   "source": [
    "model_data = one_hot_encode_data(merged_train_data, cat_vars = None, num_vars = None)"
   ]
  },
  {
   "cell_type": "code",
   "execution_count": 40,
   "metadata": {
    "colab": {
     "base_uri": "https://localhost:8080/",
     "height": 317
    },
    "colab_type": "code",
    "executionInfo": {
     "elapsed": 927,
     "status": "ok",
     "timestamp": 1599660714742,
     "user": {
      "displayName": "Dapo Laniya",
      "photoUrl": "",
      "userId": "07293732013348809745"
     },
     "user_tz": 240
    },
    "id": "jDnZ2_JcQldw",
    "outputId": "f5963b1d-9f87-400e-f512-3856e0a7e318"
   },
   "outputs": [
    {
     "data": {
      "text/html": [
       "<div>\n",
       "<style scoped>\n",
       "    .dataframe tbody tr th:only-of-type {\n",
       "        vertical-align: middle;\n",
       "    }\n",
       "\n",
       "    .dataframe tbody tr th {\n",
       "        vertical-align: top;\n",
       "    }\n",
       "\n",
       "    .dataframe thead th {\n",
       "        text-align: right;\n",
       "    }\n",
       "</style>\n",
       "<table border=\"1\" class=\"dataframe\">\n",
       "  <thead>\n",
       "    <tr style=\"text-align: right;\">\n",
       "      <th></th>\n",
       "      <th>jobType_CFO</th>\n",
       "      <th>jobType_CTO</th>\n",
       "      <th>jobType_JANITOR</th>\n",
       "      <th>jobType_JUNIOR</th>\n",
       "      <th>jobType_MANAGER</th>\n",
       "      <th>jobType_SENIOR</th>\n",
       "      <th>jobType_VICE_PRESIDENT</th>\n",
       "      <th>major_BUSINESS</th>\n",
       "      <th>major_CHEMISTRY</th>\n",
       "      <th>major_COMPSCI</th>\n",
       "      <th>major_ENGINEERING</th>\n",
       "      <th>major_LITERATURE</th>\n",
       "      <th>major_MATH</th>\n",
       "      <th>major_NONE</th>\n",
       "      <th>major_PHYSICS</th>\n",
       "      <th>degree_DOCTORAL</th>\n",
       "      <th>degree_HIGH_SCHOOL</th>\n",
       "      <th>degree_MASTERS</th>\n",
       "      <th>degree_NONE</th>\n",
       "      <th>industry_EDUCATION</th>\n",
       "      <th>industry_FINANCE</th>\n",
       "      <th>industry_HEALTH</th>\n",
       "      <th>industry_OIL</th>\n",
       "      <th>industry_SERVICE</th>\n",
       "      <th>industry_WEB</th>\n",
       "      <th>yearsExperience</th>\n",
       "      <th>milesFromMetropolis</th>\n",
       "      <th>salary</th>\n",
       "    </tr>\n",
       "  </thead>\n",
       "  <tbody>\n",
       "    <tr>\n",
       "      <th>count</th>\n",
       "      <td>999995.000000</td>\n",
       "      <td>999995.000000</td>\n",
       "      <td>999995.000000</td>\n",
       "      <td>999995.000000</td>\n",
       "      <td>999995.000000</td>\n",
       "      <td>999995.000000</td>\n",
       "      <td>999995.000000</td>\n",
       "      <td>999995.000000</td>\n",
       "      <td>999995.000000</td>\n",
       "      <td>999995.000000</td>\n",
       "      <td>999995.000000</td>\n",
       "      <td>999995.000000</td>\n",
       "      <td>999995.000000</td>\n",
       "      <td>999995.000000</td>\n",
       "      <td>999995.000000</td>\n",
       "      <td>999995.000000</td>\n",
       "      <td>999995.000000</td>\n",
       "      <td>999995.000000</td>\n",
       "      <td>999995.000000</td>\n",
       "      <td>999995.000000</td>\n",
       "      <td>999995.000000</td>\n",
       "      <td>999995.000000</td>\n",
       "      <td>999995.000000</td>\n",
       "      <td>999995.000000</td>\n",
       "      <td>999995.000000</td>\n",
       "      <td>999995.000000</td>\n",
       "      <td>999995.000000</td>\n",
       "      <td>999995.000000</td>\n",
       "    </tr>\n",
       "    <tr>\n",
       "      <th>mean</th>\n",
       "      <td>0.124370</td>\n",
       "      <td>0.125046</td>\n",
       "      <td>0.124972</td>\n",
       "      <td>0.124593</td>\n",
       "      <td>0.125121</td>\n",
       "      <td>0.125887</td>\n",
       "      <td>0.125235</td>\n",
       "      <td>0.058518</td>\n",
       "      <td>0.058875</td>\n",
       "      <td>0.058382</td>\n",
       "      <td>0.058594</td>\n",
       "      <td>0.058684</td>\n",
       "      <td>0.057800</td>\n",
       "      <td>0.532356</td>\n",
       "      <td>0.058410</td>\n",
       "      <td>0.175363</td>\n",
       "      <td>0.236976</td>\n",
       "      <td>0.175311</td>\n",
       "      <td>0.236854</td>\n",
       "      <td>0.142820</td>\n",
       "      <td>0.142867</td>\n",
       "      <td>0.142756</td>\n",
       "      <td>0.142771</td>\n",
       "      <td>0.142640</td>\n",
       "      <td>0.143206</td>\n",
       "      <td>11.992407</td>\n",
       "      <td>49.529381</td>\n",
       "      <td>116.062398</td>\n",
       "    </tr>\n",
       "    <tr>\n",
       "      <th>std</th>\n",
       "      <td>0.330003</td>\n",
       "      <td>0.330771</td>\n",
       "      <td>0.330687</td>\n",
       "      <td>0.330257</td>\n",
       "      <td>0.330856</td>\n",
       "      <td>0.331722</td>\n",
       "      <td>0.330985</td>\n",
       "      <td>0.234721</td>\n",
       "      <td>0.235391</td>\n",
       "      <td>0.234465</td>\n",
       "      <td>0.234864</td>\n",
       "      <td>0.235033</td>\n",
       "      <td>0.233366</td>\n",
       "      <td>0.498952</td>\n",
       "      <td>0.234518</td>\n",
       "      <td>0.380277</td>\n",
       "      <td>0.425228</td>\n",
       "      <td>0.380233</td>\n",
       "      <td>0.425152</td>\n",
       "      <td>0.349889</td>\n",
       "      <td>0.349937</td>\n",
       "      <td>0.349824</td>\n",
       "      <td>0.349839</td>\n",
       "      <td>0.349705</td>\n",
       "      <td>0.350283</td>\n",
       "      <td>7.212390</td>\n",
       "      <td>28.877721</td>\n",
       "      <td>38.717163</td>\n",
       "    </tr>\n",
       "    <tr>\n",
       "      <th>min</th>\n",
       "      <td>0.000000</td>\n",
       "      <td>0.000000</td>\n",
       "      <td>0.000000</td>\n",
       "      <td>0.000000</td>\n",
       "      <td>0.000000</td>\n",
       "      <td>0.000000</td>\n",
       "      <td>0.000000</td>\n",
       "      <td>0.000000</td>\n",
       "      <td>0.000000</td>\n",
       "      <td>0.000000</td>\n",
       "      <td>0.000000</td>\n",
       "      <td>0.000000</td>\n",
       "      <td>0.000000</td>\n",
       "      <td>0.000000</td>\n",
       "      <td>0.000000</td>\n",
       "      <td>0.000000</td>\n",
       "      <td>0.000000</td>\n",
       "      <td>0.000000</td>\n",
       "      <td>0.000000</td>\n",
       "      <td>0.000000</td>\n",
       "      <td>0.000000</td>\n",
       "      <td>0.000000</td>\n",
       "      <td>0.000000</td>\n",
       "      <td>0.000000</td>\n",
       "      <td>0.000000</td>\n",
       "      <td>0.000000</td>\n",
       "      <td>0.000000</td>\n",
       "      <td>17.000000</td>\n",
       "    </tr>\n",
       "    <tr>\n",
       "      <th>25%</th>\n",
       "      <td>0.000000</td>\n",
       "      <td>0.000000</td>\n",
       "      <td>0.000000</td>\n",
       "      <td>0.000000</td>\n",
       "      <td>0.000000</td>\n",
       "      <td>0.000000</td>\n",
       "      <td>0.000000</td>\n",
       "      <td>0.000000</td>\n",
       "      <td>0.000000</td>\n",
       "      <td>0.000000</td>\n",
       "      <td>0.000000</td>\n",
       "      <td>0.000000</td>\n",
       "      <td>0.000000</td>\n",
       "      <td>0.000000</td>\n",
       "      <td>0.000000</td>\n",
       "      <td>0.000000</td>\n",
       "      <td>0.000000</td>\n",
       "      <td>0.000000</td>\n",
       "      <td>0.000000</td>\n",
       "      <td>0.000000</td>\n",
       "      <td>0.000000</td>\n",
       "      <td>0.000000</td>\n",
       "      <td>0.000000</td>\n",
       "      <td>0.000000</td>\n",
       "      <td>0.000000</td>\n",
       "      <td>6.000000</td>\n",
       "      <td>25.000000</td>\n",
       "      <td>88.000000</td>\n",
       "    </tr>\n",
       "    <tr>\n",
       "      <th>50%</th>\n",
       "      <td>0.000000</td>\n",
       "      <td>0.000000</td>\n",
       "      <td>0.000000</td>\n",
       "      <td>0.000000</td>\n",
       "      <td>0.000000</td>\n",
       "      <td>0.000000</td>\n",
       "      <td>0.000000</td>\n",
       "      <td>0.000000</td>\n",
       "      <td>0.000000</td>\n",
       "      <td>0.000000</td>\n",
       "      <td>0.000000</td>\n",
       "      <td>0.000000</td>\n",
       "      <td>0.000000</td>\n",
       "      <td>1.000000</td>\n",
       "      <td>0.000000</td>\n",
       "      <td>0.000000</td>\n",
       "      <td>0.000000</td>\n",
       "      <td>0.000000</td>\n",
       "      <td>0.000000</td>\n",
       "      <td>0.000000</td>\n",
       "      <td>0.000000</td>\n",
       "      <td>0.000000</td>\n",
       "      <td>0.000000</td>\n",
       "      <td>0.000000</td>\n",
       "      <td>0.000000</td>\n",
       "      <td>12.000000</td>\n",
       "      <td>50.000000</td>\n",
       "      <td>114.000000</td>\n",
       "    </tr>\n",
       "    <tr>\n",
       "      <th>75%</th>\n",
       "      <td>0.000000</td>\n",
       "      <td>0.000000</td>\n",
       "      <td>0.000000</td>\n",
       "      <td>0.000000</td>\n",
       "      <td>0.000000</td>\n",
       "      <td>0.000000</td>\n",
       "      <td>0.000000</td>\n",
       "      <td>0.000000</td>\n",
       "      <td>0.000000</td>\n",
       "      <td>0.000000</td>\n",
       "      <td>0.000000</td>\n",
       "      <td>0.000000</td>\n",
       "      <td>0.000000</td>\n",
       "      <td>1.000000</td>\n",
       "      <td>0.000000</td>\n",
       "      <td>0.000000</td>\n",
       "      <td>0.000000</td>\n",
       "      <td>0.000000</td>\n",
       "      <td>0.000000</td>\n",
       "      <td>0.000000</td>\n",
       "      <td>0.000000</td>\n",
       "      <td>0.000000</td>\n",
       "      <td>0.000000</td>\n",
       "      <td>0.000000</td>\n",
       "      <td>0.000000</td>\n",
       "      <td>18.000000</td>\n",
       "      <td>75.000000</td>\n",
       "      <td>141.000000</td>\n",
       "    </tr>\n",
       "    <tr>\n",
       "      <th>max</th>\n",
       "      <td>1.000000</td>\n",
       "      <td>1.000000</td>\n",
       "      <td>1.000000</td>\n",
       "      <td>1.000000</td>\n",
       "      <td>1.000000</td>\n",
       "      <td>1.000000</td>\n",
       "      <td>1.000000</td>\n",
       "      <td>1.000000</td>\n",
       "      <td>1.000000</td>\n",
       "      <td>1.000000</td>\n",
       "      <td>1.000000</td>\n",
       "      <td>1.000000</td>\n",
       "      <td>1.000000</td>\n",
       "      <td>1.000000</td>\n",
       "      <td>1.000000</td>\n",
       "      <td>1.000000</td>\n",
       "      <td>1.000000</td>\n",
       "      <td>1.000000</td>\n",
       "      <td>1.000000</td>\n",
       "      <td>1.000000</td>\n",
       "      <td>1.000000</td>\n",
       "      <td>1.000000</td>\n",
       "      <td>1.000000</td>\n",
       "      <td>1.000000</td>\n",
       "      <td>1.000000</td>\n",
       "      <td>24.000000</td>\n",
       "      <td>99.000000</td>\n",
       "      <td>301.000000</td>\n",
       "    </tr>\n",
       "  </tbody>\n",
       "</table>\n",
       "</div>"
      ],
      "text/plain": [
       "         jobType_CFO    jobType_CTO  ...  milesFromMetropolis         salary\n",
       "count  999995.000000  999995.000000  ...        999995.000000  999995.000000\n",
       "mean        0.124370       0.125046  ...            49.529381     116.062398\n",
       "std         0.330003       0.330771  ...            28.877721      38.717163\n",
       "min         0.000000       0.000000  ...             0.000000      17.000000\n",
       "25%         0.000000       0.000000  ...            25.000000      88.000000\n",
       "50%         0.000000       0.000000  ...            50.000000     114.000000\n",
       "75%         0.000000       0.000000  ...            75.000000     141.000000\n",
       "max         1.000000       1.000000  ...            99.000000     301.000000\n",
       "\n",
       "[8 rows x 28 columns]"
      ]
     },
     "execution_count": 40,
     "metadata": {
      "tags": []
     },
     "output_type": "execute_result"
    }
   ],
   "source": [
    "model_data.describe()"
   ]
  },
  {
   "cell_type": "code",
   "execution_count": 41,
   "metadata": {
    "colab": {
     "base_uri": "https://localhost:8080/",
     "height": 187
    },
    "colab_type": "code",
    "executionInfo": {
     "elapsed": 929,
     "status": "ok",
     "timestamp": 1599660721187,
     "user": {
      "displayName": "Dapo Laniya",
      "photoUrl": "",
      "userId": "07293732013348809745"
     },
     "user_tz": 240
    },
    "id": "l47DtyG9Qld5",
    "outputId": "54d96381-f40d-4813-e6d9-d3395bafc058"
   },
   "outputs": [
    {
     "data": {
      "text/plain": [
       "Index(['jobType_CFO', 'jobType_CTO', 'jobType_JANITOR', 'jobType_JUNIOR',\n",
       "       'jobType_MANAGER', 'jobType_SENIOR', 'jobType_VICE_PRESIDENT',\n",
       "       'major_BUSINESS', 'major_CHEMISTRY', 'major_COMPSCI',\n",
       "       'major_ENGINEERING', 'major_LITERATURE', 'major_MATH', 'major_NONE',\n",
       "       'major_PHYSICS', 'degree_DOCTORAL', 'degree_HIGH_SCHOOL',\n",
       "       'degree_MASTERS', 'degree_NONE', 'industry_EDUCATION',\n",
       "       'industry_FINANCE', 'industry_HEALTH', 'industry_OIL',\n",
       "       'industry_SERVICE', 'industry_WEB', 'yearsExperience',\n",
       "       'milesFromMetropolis', 'salary'],\n",
       "      dtype='object')"
      ]
     },
     "execution_count": 41,
     "metadata": {
      "tags": []
     },
     "output_type": "execute_result"
    }
   ],
   "source": [
    "model_data.columns"
   ]
  },
  {
   "cell_type": "code",
   "execution_count": 42,
   "metadata": {
    "colab": {},
    "colab_type": "code",
    "executionInfo": {
     "elapsed": 1051,
     "status": "ok",
     "timestamp": 1599660726284,
     "user": {
      "displayName": "Dapo Laniya",
      "photoUrl": "",
      "userId": "07293732013348809745"
     },
     "user_tz": 240
    },
    "id": "VTOJNZDeQld_"
   },
   "outputs": [],
   "source": [
    "\n",
    "features = ['jobType_CFO', 'jobType_CTO', 'jobType_JANITOR', 'jobType_JUNIOR',\n",
    "       'jobType_MANAGER', 'jobType_SENIOR', 'jobType_VICE_PRESIDENT',\n",
    "       'major_BUSINESS', 'major_CHEMISTRY', 'major_COMPSCI',\n",
    "       'major_ENGINEERING', 'major_LITERATURE', 'major_MATH', 'major_NONE',\n",
    "       'major_PHYSICS', 'degree_DOCTORAL', 'degree_HIGH_SCHOOL',\n",
    "       'degree_MASTERS', 'degree_NONE', 'industry_EDUCATION',\n",
    "       'industry_FINANCE', 'industry_HEALTH', 'industry_OIL',\n",
    "       'industry_SERVICE', 'industry_WEB', 'yearsExperience',\n",
    "       'milesFromMetropolis']\n",
    "feature_train, feature_tune, target_train, target_tune = train_test_split(model_data[features], model_data['salary'], test_size=0.33, random_state=0, shuffle=True)"
   ]
  },
  {
   "cell_type": "markdown",
   "metadata": {
    "colab_type": "text",
    "id": "Q9RVcYnoQleI"
   },
   "source": [
    "### 3.2 Models Creation"
   ]
  },
  {
   "cell_type": "markdown",
   "metadata": {
    "colab_type": "text",
    "id": "eVyEBonAQleJ"
   },
   "source": [
    "3.2.1 As mentioned in section 2.6 above, 4 algorithms are used to create the models in this project. Hyperparameter tuning was done using the Google Colab TPU platform due to large computing resources required. The parameters used for the models are the results of the tuning process."
   ]
  },
  {
   "cell_type": "code",
   "execution_count": 43,
   "metadata": {
    "colab": {},
    "colab_type": "code",
    "executionInfo": {
     "elapsed": 790,
     "status": "ok",
     "timestamp": 1599660732031,
     "user": {
      "displayName": "Dapo Laniya",
      "photoUrl": "",
      "userId": "07293732013348809745"
     },
     "user_tz": 240
    },
    "id": "jz78iriQQleU"
   },
   "outputs": [],
   "source": [
    "# create models\n",
    "# Model 1: Linear Regression\n",
    "LinearRegression = lr()\n",
    "# Model 2: Linear Regression with Interaction\n",
    "LR_interaction = lr()\n",
    "# Model 3: Random Forest and Gradient Boosting\n",
    "rfr = rfregr(random_state=42, n_estimators=200, max_depth=40, criterion='mse', min_samples_split=40, max_features=15)\n",
    "# Model 4: Random Forest and Gradient Boosting\n",
    "grb = grbregr(random_state=42, n_estimators=200, criterion='mse', min_samples_split=2, max_depth=10, min_samples_leaf=40, subsample=1, learning_rate=0.08)"
   ]
  },
  {
   "cell_type": "markdown",
   "metadata": {
    "colab_type": "text",
    "id": "CI64pn2SQlee"
   },
   "source": [
    "3.2.2 Steps of hyperparameter tuning done with Random Grid Search using the Google Colab TPU platform for Random Forest Model"
   ]
  },
  {
   "cell_type": "code",
   "execution_count": null,
   "metadata": {
    "colab": {
     "base_uri": "https://localhost:8080/",
     "height": 357
    },
    "colab_type": "code",
    "executionInfo": {
     "elapsed": 1013,
     "status": "ok",
     "timestamp": 1599537675320,
     "user": {
      "displayName": "Dapo Laniya",
      "photoUrl": "",
      "userId": "07293732013348809745"
     },
     "user_tz": 240
    },
    "id": "WSy41foG37nZ",
    "outputId": "1830fd7a-d460-4d3b-b6da-89eb4079492e"
   },
   "outputs": [
    {
     "name": "stdout",
     "output_type": "stream",
     "text": [
      "Parameters currently in use:\n",
      "\n",
      "{'bootstrap': True,\n",
      " 'ccp_alpha': 0.0,\n",
      " 'criterion': 'mse',\n",
      " 'max_depth': None,\n",
      " 'max_features': 'auto',\n",
      " 'max_leaf_nodes': None,\n",
      " 'max_samples': None,\n",
      " 'min_impurity_decrease': 0.0,\n",
      " 'min_impurity_split': None,\n",
      " 'min_samples_leaf': 1,\n",
      " 'min_samples_split': 2,\n",
      " 'min_weight_fraction_leaf': 0.0,\n",
      " 'n_estimators': 100,\n",
      " 'n_jobs': None,\n",
      " 'oob_score': False,\n",
      " 'random_state': 42,\n",
      " 'verbose': 0,\n",
      " 'warm_start': False}\n"
     ]
    }
   ],
   "source": [
    "rf = rfregr(random_state = 42)\n",
    "from pprint import pprint\n",
    "# Look at parameters used by our current forest\n",
    "print('Parameters currently in use:\\n')\n",
    "pprint(rf.get_params())\n",
    "#Parameters currently in use:"
   ]
  },
  {
   "cell_type": "code",
   "execution_count": null,
   "metadata": {
    "colab": {
     "base_uri": "https://localhost:8080/",
     "height": 54
    },
    "colab_type": "code",
    "executionInfo": {
     "elapsed": 1094,
     "status": "ok",
     "timestamp": 1599537880156,
     "user": {
      "displayName": "Dapo Laniya",
      "photoUrl": "",
      "userId": "07293732013348809745"
     },
     "user_tz": 240
    },
    "id": "iIksbCSv4Bjx",
    "outputId": "277067f4-ba99-4a99-f98d-41d80dabc7d3"
   },
   "outputs": [
    {
     "name": "stdout",
     "output_type": "stream",
     "text": [
      "{'n_estimators': [100, 200, 300, 400, 500, 600, 700, 800, 900, 1000], 'max_features': [3, 6, 9, 12, 15], 'max_depth': [6, 12, 18, 24, 30, 36, 42, 48, 54, 60, None], 'min_samples_split': [20, 40, 60, 80], 'min_samples_leaf': [1, 2, 4], 'bootstrap': [True, False]}\n"
     ]
    }
   ],
   "source": [
    "# Number of trees in random forest\n",
    "n_estimators = [int(x) for x in np.linspace(start = 100, stop = 1000, num = 10)]\n",
    "# Number of features to consider at every split\n",
    "max_features = [3, 6, 9, 12, 15]\n",
    "# Maximum number of levels in tree\n",
    "max_depth = [int(x) for x in np.linspace(6, 60, num = 10)]\n",
    "max_depth.append(None)\n",
    "# Minimum number of samples required to split a node\n",
    "min_samples_split = [20, 40, 60, 80]\n",
    "# Minimum number of samples required at each leaf node\n",
    "min_samples_leaf = [1, 2, 4]\n",
    "# Method of selecting samples for training each tree\n",
    "bootstrap = [True, False]\n",
    "# Create the random grid\n",
    "random_grid = {'n_estimators': n_estimators,\n",
    "               'max_features': max_features,\n",
    "               'max_depth': max_depth,\n",
    "               'min_samples_split': min_samples_split,\n",
    "               'min_samples_leaf': min_samples_leaf,\n",
    "               'bootstrap': bootstrap}\n",
    "print(random_grid)"
   ]
  },
  {
   "cell_type": "code",
   "execution_count": null,
   "metadata": {
    "colab": {
     "base_uri": "https://localhost:8080/",
     "height": 122
    },
    "colab_type": "code",
    "id": "53MrThOl40cC",
    "outputId": "9eb32b69-6af1-4e7b-81e0-ae0bf20983ac"
   },
   "outputs": [
    {
     "name": "stdout",
     "output_type": "stream",
     "text": [
      "Fitting 3 folds for each of 100 candidates, totalling 300 fits\n"
     ]
    },
    {
     "name": "stderr",
     "output_type": "stream",
     "text": [
      "[Parallel(n_jobs=-1)]: Using backend LokyBackend with 2 concurrent workers.\n",
      "/usr/local/lib/python3.6/dist-packages/joblib/externals/loky/process_executor.py:691: UserWarning: A worker stopped while some jobs were given to the executor. This can be caused by a too short worker timeout or by a memory leak.\n",
      "  \"timeout or by a memory leak.\", UserWarning\n",
      "[Parallel(n_jobs=-1)]: Done  37 tasks      | elapsed: 194.2min\n"
     ]
    }
   ],
   "source": [
    "# Use the random grid to search for best hyperparameters\n",
    "# First create the base model to tune\n",
    "rf = rfregr()\n",
    "# Random search of parameters, using 3 fold cross validation, \n",
    "# search across 4 different combinations, and use all available cores\n",
    "rf_random = RandomizedSearchCV(estimator = rf, param_distributions = random_grid, n_iter = 100, cv = 3, verbose=2, random_state=42, n_jobs = -1)\n",
    "# Fit the random search model\n",
    "rf_random.fit(feature_train, target_train)"
   ]
  },
  {
   "cell_type": "code",
   "execution_count": null,
   "metadata": {
    "colab": {},
    "colab_type": "code",
    "id": "irhpBaxH9uGw"
   },
   "outputs": [],
   "source": [
    "#View the best parameters from fitting the random search:\n",
    "rf_random.best_params_"
   ]
  },
  {
   "cell_type": "code",
   "execution_count": null,
   "metadata": {
    "colab": {},
    "colab_type": "code",
    "id": "D_QwiY7R9xzF"
   },
   "outputs": [],
   "source": [
    "def evaluate(model, test_features, test_labels):\n",
    "    predictions = model.predict(test_features)\n",
    "    errors = abs(predictions - test_labels)\n",
    "    mape = 100 * np.mean(errors / test_labels)\n",
    "    accuracy = 100 - mape\n",
    "    print('Model Performance')\n",
    "    print('Average Error: {:0.4f} degrees.'.format(np.mean(errors)))\n",
    "    print('Accuracy = {:0.2f}%.'.format(accuracy))\n",
    "    \n",
    "    return accuracy\n",
    "base_model = rfregr(n_estimators = 100, random_state = 42)\n",
    "base_model.fit(feature_train, target_train)\n",
    "base_accuracy = evaluate(base_model, feature_tune, target_tune)"
   ]
  },
  {
   "cell_type": "code",
   "execution_count": null,
   "metadata": {
    "colab": {},
    "colab_type": "code",
    "id": "YCwGFTny9_nZ"
   },
   "outputs": [],
   "source": [
    "best_random = rf_random.best_estimator_\n",
    "random_accuracy = evaluate(best_random, feature_tune, target_tune)\n",
    "print('Improvement of {:0.2f}%.'.format( 100 * (random_accuracy - base_accuracy) / base_accuracy))"
   ]
  },
  {
   "cell_type": "markdown",
   "metadata": {
    "colab_type": "text",
    "id": "OIaR3OJPQlel"
   },
   "source": [
    "3.2.3 Steps of hyperparameter tuning done using the Google Colab TPU platform for Gradient Boost Model"
   ]
  },
  {
   "cell_type": "code",
   "execution_count": null,
   "metadata": {
    "colab": {},
    "colab_type": "code",
    "id": "v44G8uM7Qlen"
   },
   "outputs": [],
   "source": [
    "def select_params(feature_train, target_train, feature_tune, target_tune, max_estimators=1000, max_depth = 3, learning_rate=0.01):\n",
    "\n",
    "    #feature_train, feature_tune, target_train, target_tune = train_test_split(model_data[features], model_data['salary'], test_size=0.33, random_state=0, shuffle=True)\n",
    "    \n",
    "    gbm = grbregr(n_estimators = max_estimators, learning_rate=learning_rate, \n",
    "                                    max_depth=max_depth, loss='ls', subsample=1.0)\n",
    "\n",
    "    gbm.fit(feature_train, target_train)\n",
    "\n",
    "    test_score = np.zeros(max_estimators)\n",
    "\n",
    "    for i, y_pred in enumerate(gbm.staged_predict(feature_tune)):\n",
    "        test_score[i] = mse(target_tune, y_pred)\n",
    "        \n",
    "    print('optimal number of trees: {0}'.format(test_score.argmin()))\n",
    "    print('best MSE: {0}'.format(test_score.min()))\n",
    "    # print('baseline MSE: {0}'.format(mse(target_tune, target_train.median())))\n",
    "    pd.Series(test_score).plot(title='learning curve for max_depth = {0}'.format(max_depth))\n",
    "    plt.show()"
   ]
  },
  {
   "cell_type": "code",
   "execution_count": null,
   "metadata": {
    "colab": {},
    "colab_type": "code",
    "id": "13pMxltgQler"
   },
   "outputs": [],
   "source": [
    "for depth in [6, 8, 10, 12]:\n",
    "    print('***** training for max depth = {0} *****'.format(depth))\n",
    "    select_params(feature_train, target_train, feature_tune, target_tune, max_estimators=40, max_depth=depth, learning_rate=0.1)"
   ]
  },
  {
   "cell_type": "markdown",
   "metadata": {
    "colab_type": "text",
    "id": "fI1PS7oqQlex"
   },
   "source": [
    "Max Depth of 10 computes best MSE, next we tune for Max Estimator."
   ]
  },
  {
   "cell_type": "code",
   "execution_count": null,
   "metadata": {
    "colab": {},
    "colab_type": "code",
    "id": "6kEg7vIyQley"
   },
   "outputs": [],
   "source": [
    "for max_e in [100, 200, 300, 400]:\n",
    "    print('***** training for max estimators = {0} *****'.format(max_e))\n",
    "    select_params(feature_train, target_train, feature_tune, target_tune, max_estimators=max_e, max_depth=10, learning_rate=0.08)"
   ]
  },
  {
   "cell_type": "markdown",
   "metadata": {
    "colab_type": "text",
    "id": "CnviDw1fQle2"
   },
   "source": [
    "### 3.3 Models Evaluation"
   ]
  },
  {
   "cell_type": "markdown",
   "metadata": {
    "colab_type": "text",
    "id": "OIaR3OJPQlel"
   },
   "source": [
    "3.3.1 Compile the selected models for evaluation"
   ]
  },
  {
   "cell_type": "code",
   "execution_count": 44,
   "metadata": {
    "colab": {
     "base_uri": "https://localhost:8080/",
     "height": 292
    },
    "colab_type": "code",
    "executionInfo": {
     "elapsed": 848,
     "status": "ok",
     "timestamp": 1599660755465,
     "user": {
      "displayName": "Dapo Laniya",
      "photoUrl": "",
      "userId": "07293732013348809745"
     },
     "user_tz": 240
    },
    "id": "HcC8UN-OUNfx",
    "outputId": "a5f4a0df-49d8-48ed-bf42-9ad2c4935e32"
   },
   "outputs": [
    {
     "name": "stdout",
     "output_type": "stream",
     "text": [
      "[('LinearRegression', LinearRegression(copy_X=True, fit_intercept=True, n_jobs=None, normalize=False)), ('LR_interaction', LinearRegression(copy_X=True, fit_intercept=True, n_jobs=None, normalize=False)), ('RandomForest', RandomForestRegressor(bootstrap=True, ccp_alpha=0.0, criterion='mse',\n",
      "                      max_depth=40, max_features=15, max_leaf_nodes=None,\n",
      "                      max_samples=None, min_impurity_decrease=0.0,\n",
      "                      min_impurity_split=None, min_samples_leaf=1,\n",
      "                      min_samples_split=40, min_weight_fraction_leaf=0.0,\n",
      "                      n_estimators=200, n_jobs=None, oob_score=False,\n",
      "                      random_state=42, verbose=0, warm_start=False)), ('GradientBoosting', GradientBoostingRegressor(alpha=0.9, ccp_alpha=0.0, criterion='mse', init=None,\n",
      "                          learning_rate=0.08, loss='ls', max_depth=10,\n",
      "                          max_features=None, max_leaf_nodes=None,\n",
      "                          min_impurity_decrease=0.0, min_impurity_split=None,\n",
      "                          min_samples_leaf=40, min_samples_split=2,\n",
      "                          min_weight_fraction_leaf=0.0, n_estimators=200,\n",
      "                          n_iter_no_change=None, presort='deprecated',\n",
      "                          random_state=42, subsample=1, tol=0.0001,\n",
      "                          validation_fraction=0.1, verbose=0, warm_start=False))]\n"
     ]
    }
   ],
   "source": [
    "# create models\n",
    "models_eval = []\n",
    "models_eval.append(('LinearRegression', lr()))\n",
    "models_eval.append(('LR_interaction', lr()))\n",
    "models_eval.append(('RandomForest', rfregr(random_state=42, n_estimators=200, max_depth=40, criterion='mse', min_samples_split=40, max_features=15)))\n",
    "models_eval.append(('GradientBoosting', grbregr(random_state=42, n_estimators=200, criterion='mse', min_samples_split=2, max_depth=10, min_samples_leaf=40, subsample=1, learning_rate=0.08)))\n",
    "\n",
    "print(models_eval)"
   ]
  },
  {
   "cell_type": "markdown",
   "metadata": {
    "colab_type": "text",
    "id": "OIaR3OJPQlel"
   },
   "source": [
    "3.3.2 This function is to create variables for the Logistic Regression with Interaction model."
   ]
  },
  {
   "cell_type": "code",
   "execution_count": 45,
   "metadata": {
    "colab": {},
    "colab_type": "code",
    "executionInfo": {
     "elapsed": 416,
     "status": "ok",
     "timestamp": 1599660792818,
     "user": {
      "displayName": "Dapo Laniya",
      "photoUrl": "",
      "userId": "07293732013348809745"
     },
     "user_tz": 240
    },
    "id": "unsn0Q0oQlfJ"
   },
   "outputs": [],
   "source": [
    "def create_interactions(data):\n",
    "    interactions = PolynomialFeatures(interaction_only=True, include_bias=False)\n",
    "    interaction_vars = interactions.fit_transform(data)\n",
    "    return interaction_vars"
   ]
  },
  {
   "cell_type": "markdown",
   "metadata": {
    "colab_type": "text",
    "id": "OIaR3OJPQlel"
   },
   "source": [
    "3.3.3 Interaction variables are created for the split feature training data"
   ]
  },
  {
   "cell_type": "code",
   "execution_count": 46,
   "metadata": {
    "colab": {
     "base_uri": "https://localhost:8080/",
     "height": 136
    },
    "colab_type": "code",
    "executionInfo": {
     "elapsed": 2755,
     "status": "ok",
     "timestamp": 1599660802410,
     "user": {
      "displayName": "Dapo Laniya",
      "photoUrl": "",
      "userId": "07293732013348809745"
     },
     "user_tz": 240
    },
    "id": "fFPEAIlqQlfP",
    "outputId": "763a21fe-caca-413a-8c3f-a722df3858e8"
   },
   "outputs": [
    {
     "data": {
      "text/plain": [
       "array([[0.00e+00, 0.00e+00, 0.00e+00, ..., 0.00e+00, 0.00e+00, 1.08e+03],\n",
       "       [0.00e+00, 0.00e+00, 0.00e+00, ..., 0.00e+00, 0.00e+00, 5.00e+01],\n",
       "       [0.00e+00, 1.00e+00, 0.00e+00, ..., 0.00e+00, 0.00e+00, 2.30e+01],\n",
       "       ...,\n",
       "       [0.00e+00, 0.00e+00, 0.00e+00, ..., 0.00e+00, 0.00e+00, 1.38e+02],\n",
       "       [0.00e+00, 0.00e+00, 0.00e+00, ..., 0.00e+00, 0.00e+00, 9.00e+01],\n",
       "       [0.00e+00, 0.00e+00, 1.00e+00, ..., 0.00e+00, 0.00e+00, 2.04e+02]])"
      ]
     },
     "execution_count": 46,
     "metadata": {
      "tags": []
     },
     "output_type": "execute_result"
    }
   ],
   "source": [
    "# Creating interaction variables\n",
    "interaction_vars = create_interactions(feature_train)\n",
    "interaction_vars"
   ]
  },
  {
   "cell_type": "markdown",
   "metadata": {
    "colab_type": "text",
    "id": "OIaR3OJPQlel"
   },
   "source": [
    "3.3.4 This function is to evaluate the models using the cross validation technique on the split feature training data"
   ]
  },
  {
   "cell_type": "code",
   "execution_count": null,
   "metadata": {
    "colab": {
     "base_uri": "https://localhost:8080/",
     "height": 102
    },
    "colab_type": "code",
    "executionInfo": {
     "elapsed": 3577712,
     "status": "ok",
     "timestamp": 1599586725484,
     "user": {
      "displayName": "Dapo Laniya",
      "photoUrl": "",
      "userId": "07293732013348809745"
     },
     "user_tz": 240
    },
    "id": "HltNA2vietf9",
    "outputId": "e38073f8-9bc3-4cac-a980-8a5eade5490e"
   },
   "outputs": [
    {
     "name": "stderr",
     "output_type": "stream",
     "text": [
      " 25%|██▌       | 1/4 [00:02<00:07,  2.55s/it]"
     ]
    },
    {
     "name": "stdout",
     "output_type": "stream",
     "text": [
      "LinearRegression: 384.300352 (1.159185)\n"
     ]
    },
    {
     "name": "stderr",
     "output_type": "stream",
     "text": [
      "\r",
      " 50%|█████     | 2/4 [01:29<00:55, 27.74s/it]"
     ]
    },
    {
     "name": "stdout",
     "output_type": "stream",
     "text": [
      "LR_interaction: 353.665577 (1.303416)\n"
     ]
    },
    {
     "name": "stderr",
     "output_type": "stream",
     "text": [
      "\r",
      " 75%|███████▌  | 3/4 [21:42<06:23, 383.41s/it]"
     ]
    },
    {
     "name": "stdout",
     "output_type": "stream",
     "text": [
      "RandomForest: 368.245383 (1.165934)\n"
     ]
    },
    {
     "name": "stderr",
     "output_type": "stream",
     "text": [
      "100%|██████████| 4/4 [59:33<00:00, 893.25s/it]"
     ]
    },
    {
     "name": "stdout",
     "output_type": "stream",
     "text": [
      "GradientBoosting: 359.852918 (1.308665)\n"
     ]
    },
    {
     "name": "stderr",
     "output_type": "stream",
     "text": [
      "\n"
     ]
    }
   ],
   "source": [
    "scoring='neg_mean_squared_error'\n",
    "\n",
    "avg_scores = []\n",
    "std_dev = []\n",
    "model_names = []\n",
    "\n",
    "for model_name, model in tqdm(models_eval):\n",
    "  if model_name == 'LR_interaction':\n",
    "    score = cvs(model, interaction_vars, target_train, cv=5, scoring='neg_mean_squared_error')\n",
    "    scores = abs(score) # MSE scoring is negative in cross_val_score\n",
    "    avg_score = np.mean(scores)\n",
    "    std = np.std(scores)\n",
    "    avg_scores.append(avg_score)\n",
    "    std_dev.append(std) \n",
    "  else:\n",
    "    score = cvs(model, feature_train, target_train, cv=5, scoring='neg_mean_squared_error')\n",
    "    scores = abs(score) # MSE scoring is negative in cross_val_score\n",
    "    avg_score = np.mean(scores)\n",
    "    std = np.std(scores)\n",
    "    avg_scores.append(avg_score)\n",
    "    std_dev.append(std) \n",
    "  output = \"%s: %f (%f)\" % (model_name, avg_score, std)\n",
    "  print(output)"
   ]
  },
  {
   "cell_type": "markdown",
   "metadata": {
    "colab_type": "text",
    "id": "b2ondm4kQlfy"
   },
   "source": [
    "### 3.4 Models Testing"
   ]
  },
  {
   "cell_type": "markdown",
   "metadata": {
    "colab_type": "text",
    "id": "OIaR3OJPQlel"
   },
   "source": [
    "3.4.1 This function is to test the prediction from each model on the split feature testing data"
   ]
  },
  {
   "cell_type": "code",
   "execution_count": null,
   "metadata": {
    "colab": {
     "base_uri": "https://localhost:8080/",
     "height": 102
    },
    "colab_type": "code",
    "executionInfo": {
     "elapsed": 1006073,
     "status": "ok",
     "timestamp": 1599588098172,
     "user": {
      "displayName": "Dapo Laniya",
      "photoUrl": "",
      "userId": "07293732013348809745"
     },
     "user_tz": 240
    },
    "id": "a58fz5U2P5tP",
    "outputId": "9fdef5b8-bd46-4d8a-e1de-2207348fdf57"
   },
   "outputs": [
    {
     "name": "stderr",
     "output_type": "stream",
     "text": [
      " 25%|██▌       | 1/4 [00:00<00:02,  1.24it/s]"
     ]
    },
    {
     "name": "stdout",
     "output_type": "stream",
     "text": [
      "LinearRegression: 384.630204\n"
     ]
    },
    {
     "name": "stderr",
     "output_type": "stream",
     "text": [
      "\r",
      " 50%|█████     | 2/4 [00:25<00:15,  7.93s/it]"
     ]
    },
    {
     "name": "stdout",
     "output_type": "stream",
     "text": [
      "LR_interaction: 354.760187\n"
     ]
    },
    {
     "name": "stderr",
     "output_type": "stream",
     "text": [
      "\r",
      " 75%|███████▌  | 3/4 [06:15<01:50, 110.55s/it]"
     ]
    },
    {
     "name": "stdout",
     "output_type": "stream",
     "text": [
      "RandomForest: 368.313327\n"
     ]
    },
    {
     "name": "stderr",
     "output_type": "stream",
     "text": [
      "100%|██████████| 4/4 [16:43<00:00, 250.96s/it]"
     ]
    },
    {
     "name": "stdout",
     "output_type": "stream",
     "text": [
      "GradientBoosting: 359.880599\n"
     ]
    },
    {
     "name": "stderr",
     "output_type": "stream",
     "text": [
      "\n"
     ]
    }
   ],
   "source": [
    "scoring='neg_mean_squared_error'\n",
    "\n",
    "MSE_scores = []\n",
    "std_dev_test = []\n",
    "model_names_test = []\n",
    "\n",
    "for model_name, model in tqdm(models_eval):\n",
    "  if model_name == 'LR_interaction':\n",
    "    model_test = model.fit(interaction_vars, target_train)\n",
    "    test_interaction_var = create_interactions(feature_tune)\n",
    "    prediction = model_test.predict(test_interaction_var)\n",
    "    MSE_score = mse(target_tune, prediction)\n",
    "    MSE_scores.append(MSE_score)\n",
    "  else:\n",
    "    model_test = model.fit(feature_train, target_train) \n",
    "    prediction = model_test.predict(feature_tune)\n",
    "    MSE_score = mse(target_tune, prediction)\n",
    "    MSE_scores.append(MSE_score)\n",
    "  output = \"%s: %f\" % (model_name, MSE_score)\n",
    "  print(output)"
   ]
  },
  {
   "cell_type": "code",
   "execution_count": 47,
   "metadata": {
    "colab": {
     "base_uri": "https://localhost:8080/",
     "height": 34
    },
    "colab_type": "code",
    "executionInfo": {
     "elapsed": 1013,
     "status": "ok",
     "timestamp": 1599660847225,
     "user": {
      "displayName": "Dapo Laniya",
      "photoUrl": "",
      "userId": "07293732013348809745"
     },
     "user_tz": 240
    },
    "id": "on76m4vEYYLz",
    "outputId": "d37edd56-66d8-43bf-a86d-5c3798413fb5"
   },
   "outputs": [
    {
     "data": {
      "text/plain": [
       "[384.6302037213719, 354.7601865387493, 368.3133273997825, 359.8805986584317]"
      ]
     },
     "execution_count": 47,
     "metadata": {
      "tags": []
     },
     "output_type": "execute_result"
    }
   ],
   "source": [
    "MSE_scores = [384.6302037213719, 354.7601865387493, 368.3133273997825, 359.8805986584317]\n",
    "MSE_scores"
   ]
  },
  {
   "cell_type": "code",
   "execution_count": 48,
   "metadata": {
    "colab": {},
    "colab_type": "code",
    "executionInfo": {
     "elapsed": 865,
     "status": "ok",
     "timestamp": 1599660852535,
     "user": {
      "displayName": "Dapo Laniya",
      "photoUrl": "",
      "userId": "07293732013348809745"
     },
     "user_tz": 240
    },
    "id": "3BUnLN4cQlgi"
   },
   "outputs": [],
   "source": [
    "def models_scores_plot():\n",
    "    all_scores = MSE_scores\n",
    "    names = ['Linear Regression', 'Linear Regression with Interactions', 'Random Forest', 'Gradient Boosting']\n",
    "    fig, ax = plt.subplots(figsize=(15,7))\n",
    "    plt.style.use('dark_background')\n",
    "    plt.ylabel('MSE_scores', fontsize=15, fontweight='bold')\n",
    "    plt.xlabel('models_eval', fontsize=15, fontweight='bold')\n",
    "    plt.xticks(fontsize=12, fontweight='bold')\n",
    "    plt.yticks(fontsize=12, fontweight='bold')\n",
    "    ax.bar(names, MSE_scores)\n",
    "    plt.show()"
   ]
  },
  {
   "cell_type": "code",
   "execution_count": 49,
   "metadata": {
    "colab": {
     "base_uri": "https://localhost:8080/",
     "height": 453
    },
    "colab_type": "code",
    "executionInfo": {
     "elapsed": 924,
     "status": "ok",
     "timestamp": 1599660857499,
     "user": {
      "displayName": "Dapo Laniya",
      "photoUrl": "",
      "userId": "07293732013348809745"
     },
     "user_tz": 240
    },
    "id": "yyNTkUKiQlgp",
    "outputId": "2604aced-1854-4593-f9e3-1d1e41d8f49b"
   },
   "outputs": [
    {
     "data": {
      "image/png": "[encoded data removed]",
      "text/plain": [
       "<Figure size 1080x504 with 1 Axes>"
      ]
     },
     "metadata": {
      "needs_background": "light",
      "tags": []
     },
     "output_type": "display_data"
    }
   ],
   "source": [
    "models_scores_plot()"
   ]
  },
  {
   "cell_type": "markdown",
   "metadata": {
    "colab_type": "text",
    "id": "Lc2h8CLdQlgz"
   },
   "source": [
    "Findings :  Linear Regression with interactions has the best MSE value of ~355. Hence it will be used to predict the predict the test dataset."
   ]
  },
  {
   "cell_type": "markdown",
   "metadata": {
    "colab_type": "text",
    "id": "RHvxDBIrQlg0"
   },
   "source": [
    "### 3.5 Best Model Selection"
   ]
  },
  {
   "cell_type": "code",
   "execution_count": 50,
   "metadata": {
    "colab": {
     "base_uri": "https://localhost:8080/",
     "height": 34
    },
    "colab_type": "code",
    "executionInfo": {
     "elapsed": 1207,
     "status": "ok",
     "timestamp": 1599660865313,
     "user": {
      "displayName": "Dapo Laniya",
      "photoUrl": "",
      "userId": "07293732013348809745"
     },
     "user_tz": 240
    },
    "id": "QSZzs4XOQlg1",
    "outputId": "c499876b-50fa-413c-cca6-185227304a99"
   },
   "outputs": [
    {
     "data": {
      "text/plain": [
       "LinearRegression(copy_X=True, fit_intercept=True, n_jobs=None, normalize=False)"
      ]
     },
     "execution_count": 50,
     "metadata": {
      "tags": []
     },
     "output_type": "execute_result"
    }
   ],
   "source": [
    "bestModel = LR_interaction\n",
    "bestModel"
   ]
  },
  {
   "cell_type": "markdown",
   "metadata": {
    "colab_type": "text",
    "id": "hOUzgYClQlg9"
   },
   "source": [
    "## Part 4 - DEPLOY"
   ]
  },
  {
   "cell_type": "markdown",
   "metadata": {
    "colab_type": "text",
    "id": "KSb1Q7FhQlg9"
   },
   "source": [
    "### 4.1 Train best model selected on the entire training data"
   ]
  },
  {
   "cell_type": "markdown",
   "metadata": {
    "colab_type": "text",
    "id": "OIaR3OJPQlel"
   },
   "source": [
    "4.1.1 Interaction variables are created for the entire training data "
   ]
  },
  {
   "cell_type": "code",
   "execution_count": 51,
   "metadata": {
    "colab": {
     "base_uri": "https://localhost:8080/",
     "height": 238
    },
    "colab_type": "code",
    "executionInfo": {
     "elapsed": 3778,
     "status": "ok",
     "timestamp": 1599660877543,
     "user": {
      "displayName": "Dapo Laniya",
      "photoUrl": "",
      "userId": "07293732013348809745"
     },
     "user_tz": 240
    },
    "id": "wTm0Pp52Qlg-",
    "outputId": "1ff59ad0-a3ef-42a2-eb8c-5a6f1b71adab"
   },
   "outputs": [
    {
     "data": {
      "text/plain": [
       "array([[1.000e+00, 0.000e+00, 0.000e+00, ..., 0.000e+00, 0.000e+00,\n",
       "        8.300e+02],\n",
       "       [0.000e+00, 0.000e+00, 0.000e+00, ..., 3.000e+00, 7.300e+01,\n",
       "        2.190e+02],\n",
       "       [0.000e+00, 0.000e+00, 0.000e+00, ..., 0.000e+00, 0.000e+00,\n",
       "        3.800e+02],\n",
       "       ...,\n",
       "       [0.000e+00, 0.000e+00, 0.000e+00, ..., 0.000e+00, 0.000e+00,\n",
       "        1.296e+03],\n",
       "       [1.000e+00, 0.000e+00, 0.000e+00, ..., 0.000e+00, 0.000e+00,\n",
       "        3.000e+01],\n",
       "       [0.000e+00, 0.000e+00, 0.000e+00, ..., 0.000e+00, 0.000e+00,\n",
       "        2.200e+02]])"
      ]
     },
     "execution_count": 51,
     "metadata": {
      "tags": []
     },
     "output_type": "execute_result"
    }
   ],
   "source": [
    "# Creating interaction variables\n",
    "full_train_vars = create_interactions(model_data[features])\n",
    "full_train_vars"
   ]
  },
  {
   "cell_type": "markdown",
   "metadata": {
    "colab_type": "text",
    "id": "OIaR3OJPQlel"
   },
   "source": [
    "4.1.2 The best model is fitted to the entire training data using the interaction variables created in section 4.1.1 above. "
   ]
  },
  {
   "cell_type": "code",
   "execution_count": 52,
   "metadata": {
    "colab": {
     "base_uri": "https://localhost:8080/",
     "height": 34
    },
    "colab_type": "code",
    "executionInfo": {
     "elapsed": 33844,
     "status": "ok",
     "timestamp": 1599660919069,
     "user": {
      "displayName": "Dapo Laniya",
      "photoUrl": "",
      "userId": "07293732013348809745"
     },
     "user_tz": 240
    },
    "id": "9nC3j9oVQlhF",
    "outputId": "9a78aa22-4363-4041-beaf-77e46e78fa86"
   },
   "outputs": [
    {
     "data": {
      "text/plain": [
       "LinearRegression(copy_X=True, fit_intercept=True, n_jobs=None, normalize=False)"
      ]
     },
     "execution_count": 52,
     "metadata": {
      "tags": []
     },
     "output_type": "execute_result"
    }
   ],
   "source": [
    "#Train best model on the whole training data\n",
    "bestModel.fit(full_train_vars, model_data['salary'])"
   ]
  },
  {
   "cell_type": "markdown",
   "metadata": {
    "colab_type": "text",
    "id": "Xebu9plDQlhK"
   },
   "source": [
    "### 4.2 Score the Test Dataset"
   ]
  },
  {
   "cell_type": "markdown",
   "metadata": {
    "colab_type": "text",
    "id": "A8UC_mHaQlhL"
   },
   "source": [
    "4.2.1 Test data was inspected and explored in section 2.2.1 above. No null values identified. The data will undergo same encoding and manipulation routine to match the shape of the train dataset.\n",
    "\n",
    "This function is to perform feature engineering on the test data"
   ]
  },
  {
   "cell_type": "code",
   "execution_count": 53,
   "metadata": {
    "colab": {},
    "colab_type": "code",
    "executionInfo": {
     "elapsed": 809,
     "status": "ok",
     "timestamp": 1599660942765,
     "user": {
      "displayName": "Dapo Laniya",
      "photoUrl": "",
      "userId": "07293732013348809745"
     },
     "user_tz": 240
    },
    "id": "6Xvk82y1QlhV"
   },
   "outputs": [],
   "source": [
    "#This function one-hot-encodes all the categorical features and combines them with numerical ones\n",
    "def one_hot_encode_testdata (df, cat_vars = None, num_vars = None):\n",
    "    cat_df = pd.get_dummies(df[['jobType', 'major', 'degree', 'industry']], drop_first=True)\n",
    "    num_df = df[['yearsExperience', 'milesFromMetropolis']].apply(pd.to_numeric)\n",
    "    return pd.concat([cat_df, num_df], axis = 1, ignore_index = False)"
   ]
  },
  {
   "cell_type": "markdown",
   "metadata": {
    "colab_type": "text",
    "id": "LuNBFrF8Qlhe"
   },
   "source": [
    "4.2.2 Test data encoded using funtion defined in section 4.2.1 above."
   ]
  },
  {
   "cell_type": "code",
   "execution_count": 54,
   "metadata": {
    "colab": {
     "base_uri": "https://localhost:8080/",
     "height": 379
    },
    "colab_type": "code",
    "executionInfo": {
     "elapsed": 931,
     "status": "ok",
     "timestamp": 1599660990472,
     "user": {
      "displayName": "Dapo Laniya",
      "photoUrl": "",
      "userId": "07293732013348809745"
     },
     "user_tz": 240
    },
    "id": "1fix3YRlQlha",
    "outputId": "783c0bab-81b5-4ebd-e573-2d720903a44d"
   },
   "outputs": [
    {
     "data": {
      "text/html": [
       "<div>\n",
       "<style scoped>\n",
       "    .dataframe tbody tr th:only-of-type {\n",
       "        vertical-align: middle;\n",
       "    }\n",
       "\n",
       "    .dataframe tbody tr th {\n",
       "        vertical-align: top;\n",
       "    }\n",
       "\n",
       "    .dataframe thead th {\n",
       "        text-align: right;\n",
       "    }\n",
       "</style>\n",
       "<table border=\"1\" class=\"dataframe\">\n",
       "  <thead>\n",
       "    <tr style=\"text-align: right;\">\n",
       "      <th></th>\n",
       "      <th>jobType_CFO</th>\n",
       "      <th>jobType_CTO</th>\n",
       "      <th>jobType_JANITOR</th>\n",
       "      <th>jobType_JUNIOR</th>\n",
       "      <th>jobType_MANAGER</th>\n",
       "      <th>jobType_SENIOR</th>\n",
       "      <th>jobType_VICE_PRESIDENT</th>\n",
       "      <th>major_BUSINESS</th>\n",
       "      <th>major_CHEMISTRY</th>\n",
       "      <th>major_COMPSCI</th>\n",
       "      <th>major_ENGINEERING</th>\n",
       "      <th>major_LITERATURE</th>\n",
       "      <th>major_MATH</th>\n",
       "      <th>major_NONE</th>\n",
       "      <th>major_PHYSICS</th>\n",
       "      <th>degree_DOCTORAL</th>\n",
       "      <th>degree_HIGH_SCHOOL</th>\n",
       "      <th>degree_MASTERS</th>\n",
       "      <th>degree_NONE</th>\n",
       "      <th>industry_EDUCATION</th>\n",
       "      <th>industry_FINANCE</th>\n",
       "      <th>industry_HEALTH</th>\n",
       "      <th>industry_OIL</th>\n",
       "      <th>industry_SERVICE</th>\n",
       "      <th>industry_WEB</th>\n",
       "      <th>yearsExperience</th>\n",
       "      <th>milesFromMetropolis</th>\n",
       "    </tr>\n",
       "  </thead>\n",
       "  <tbody>\n",
       "    <tr>\n",
       "      <th>0</th>\n",
       "      <td>0</td>\n",
       "      <td>0</td>\n",
       "      <td>0</td>\n",
       "      <td>0</td>\n",
       "      <td>1</td>\n",
       "      <td>0</td>\n",
       "      <td>0</td>\n",
       "      <td>0</td>\n",
       "      <td>0</td>\n",
       "      <td>0</td>\n",
       "      <td>0</td>\n",
       "      <td>0</td>\n",
       "      <td>0</td>\n",
       "      <td>1</td>\n",
       "      <td>0</td>\n",
       "      <td>0</td>\n",
       "      <td>1</td>\n",
       "      <td>0</td>\n",
       "      <td>0</td>\n",
       "      <td>0</td>\n",
       "      <td>0</td>\n",
       "      <td>1</td>\n",
       "      <td>0</td>\n",
       "      <td>0</td>\n",
       "      <td>0</td>\n",
       "      <td>22</td>\n",
       "      <td>73</td>\n",
       "    </tr>\n",
       "    <tr>\n",
       "      <th>1</th>\n",
       "      <td>0</td>\n",
       "      <td>0</td>\n",
       "      <td>0</td>\n",
       "      <td>1</td>\n",
       "      <td>0</td>\n",
       "      <td>0</td>\n",
       "      <td>0</td>\n",
       "      <td>0</td>\n",
       "      <td>0</td>\n",
       "      <td>0</td>\n",
       "      <td>0</td>\n",
       "      <td>0</td>\n",
       "      <td>0</td>\n",
       "      <td>1</td>\n",
       "      <td>0</td>\n",
       "      <td>0</td>\n",
       "      <td>0</td>\n",
       "      <td>0</td>\n",
       "      <td>1</td>\n",
       "      <td>0</td>\n",
       "      <td>0</td>\n",
       "      <td>0</td>\n",
       "      <td>0</td>\n",
       "      <td>0</td>\n",
       "      <td>0</td>\n",
       "      <td>20</td>\n",
       "      <td>47</td>\n",
       "    </tr>\n",
       "    <tr>\n",
       "      <th>2</th>\n",
       "      <td>0</td>\n",
       "      <td>1</td>\n",
       "      <td>0</td>\n",
       "      <td>0</td>\n",
       "      <td>0</td>\n",
       "      <td>0</td>\n",
       "      <td>0</td>\n",
       "      <td>0</td>\n",
       "      <td>0</td>\n",
       "      <td>0</td>\n",
       "      <td>0</td>\n",
       "      <td>0</td>\n",
       "      <td>0</td>\n",
       "      <td>0</td>\n",
       "      <td>0</td>\n",
       "      <td>0</td>\n",
       "      <td>0</td>\n",
       "      <td>1</td>\n",
       "      <td>0</td>\n",
       "      <td>0</td>\n",
       "      <td>0</td>\n",
       "      <td>1</td>\n",
       "      <td>0</td>\n",
       "      <td>0</td>\n",
       "      <td>0</td>\n",
       "      <td>17</td>\n",
       "      <td>9</td>\n",
       "    </tr>\n",
       "    <tr>\n",
       "      <th>3</th>\n",
       "      <td>0</td>\n",
       "      <td>0</td>\n",
       "      <td>0</td>\n",
       "      <td>0</td>\n",
       "      <td>1</td>\n",
       "      <td>0</td>\n",
       "      <td>0</td>\n",
       "      <td>0</td>\n",
       "      <td>0</td>\n",
       "      <td>0</td>\n",
       "      <td>0</td>\n",
       "      <td>0</td>\n",
       "      <td>0</td>\n",
       "      <td>1</td>\n",
       "      <td>0</td>\n",
       "      <td>0</td>\n",
       "      <td>1</td>\n",
       "      <td>0</td>\n",
       "      <td>0</td>\n",
       "      <td>0</td>\n",
       "      <td>0</td>\n",
       "      <td>0</td>\n",
       "      <td>1</td>\n",
       "      <td>0</td>\n",
       "      <td>0</td>\n",
       "      <td>14</td>\n",
       "      <td>96</td>\n",
       "    </tr>\n",
       "    <tr>\n",
       "      <th>4</th>\n",
       "      <td>0</td>\n",
       "      <td>0</td>\n",
       "      <td>0</td>\n",
       "      <td>1</td>\n",
       "      <td>0</td>\n",
       "      <td>0</td>\n",
       "      <td>0</td>\n",
       "      <td>0</td>\n",
       "      <td>0</td>\n",
       "      <td>0</td>\n",
       "      <td>0</td>\n",
       "      <td>0</td>\n",
       "      <td>0</td>\n",
       "      <td>0</td>\n",
       "      <td>0</td>\n",
       "      <td>1</td>\n",
       "      <td>0</td>\n",
       "      <td>0</td>\n",
       "      <td>0</td>\n",
       "      <td>0</td>\n",
       "      <td>0</td>\n",
       "      <td>0</td>\n",
       "      <td>1</td>\n",
       "      <td>0</td>\n",
       "      <td>0</td>\n",
       "      <td>10</td>\n",
       "      <td>44</td>\n",
       "    </tr>\n",
       "    <tr>\n",
       "      <th>5</th>\n",
       "      <td>0</td>\n",
       "      <td>1</td>\n",
       "      <td>0</td>\n",
       "      <td>0</td>\n",
       "      <td>0</td>\n",
       "      <td>0</td>\n",
       "      <td>0</td>\n",
       "      <td>0</td>\n",
       "      <td>0</td>\n",
       "      <td>1</td>\n",
       "      <td>0</td>\n",
       "      <td>0</td>\n",
       "      <td>0</td>\n",
       "      <td>0</td>\n",
       "      <td>0</td>\n",
       "      <td>0</td>\n",
       "      <td>0</td>\n",
       "      <td>1</td>\n",
       "      <td>0</td>\n",
       "      <td>0</td>\n",
       "      <td>1</td>\n",
       "      <td>0</td>\n",
       "      <td>0</td>\n",
       "      <td>0</td>\n",
       "      <td>0</td>\n",
       "      <td>6</td>\n",
       "      <td>23</td>\n",
       "    </tr>\n",
       "    <tr>\n",
       "      <th>6</th>\n",
       "      <td>0</td>\n",
       "      <td>0</td>\n",
       "      <td>0</td>\n",
       "      <td>0</td>\n",
       "      <td>0</td>\n",
       "      <td>1</td>\n",
       "      <td>0</td>\n",
       "      <td>0</td>\n",
       "      <td>0</td>\n",
       "      <td>1</td>\n",
       "      <td>0</td>\n",
       "      <td>0</td>\n",
       "      <td>0</td>\n",
       "      <td>0</td>\n",
       "      <td>0</td>\n",
       "      <td>0</td>\n",
       "      <td>0</td>\n",
       "      <td>1</td>\n",
       "      <td>0</td>\n",
       "      <td>0</td>\n",
       "      <td>0</td>\n",
       "      <td>0</td>\n",
       "      <td>0</td>\n",
       "      <td>1</td>\n",
       "      <td>0</td>\n",
       "      <td>6</td>\n",
       "      <td>32</td>\n",
       "    </tr>\n",
       "    <tr>\n",
       "      <th>7</th>\n",
       "      <td>0</td>\n",
       "      <td>0</td>\n",
       "      <td>0</td>\n",
       "      <td>0</td>\n",
       "      <td>0</td>\n",
       "      <td>0</td>\n",
       "      <td>0</td>\n",
       "      <td>0</td>\n",
       "      <td>0</td>\n",
       "      <td>0</td>\n",
       "      <td>0</td>\n",
       "      <td>0</td>\n",
       "      <td>0</td>\n",
       "      <td>0</td>\n",
       "      <td>0</td>\n",
       "      <td>0</td>\n",
       "      <td>0</td>\n",
       "      <td>0</td>\n",
       "      <td>0</td>\n",
       "      <td>0</td>\n",
       "      <td>0</td>\n",
       "      <td>0</td>\n",
       "      <td>0</td>\n",
       "      <td>1</td>\n",
       "      <td>0</td>\n",
       "      <td>9</td>\n",
       "      <td>73</td>\n",
       "    </tr>\n",
       "    <tr>\n",
       "      <th>8</th>\n",
       "      <td>0</td>\n",
       "      <td>0</td>\n",
       "      <td>0</td>\n",
       "      <td>0</td>\n",
       "      <td>1</td>\n",
       "      <td>0</td>\n",
       "      <td>0</td>\n",
       "      <td>0</td>\n",
       "      <td>0</td>\n",
       "      <td>0</td>\n",
       "      <td>0</td>\n",
       "      <td>0</td>\n",
       "      <td>0</td>\n",
       "      <td>0</td>\n",
       "      <td>1</td>\n",
       "      <td>1</td>\n",
       "      <td>0</td>\n",
       "      <td>0</td>\n",
       "      <td>0</td>\n",
       "      <td>0</td>\n",
       "      <td>0</td>\n",
       "      <td>1</td>\n",
       "      <td>0</td>\n",
       "      <td>0</td>\n",
       "      <td>0</td>\n",
       "      <td>6</td>\n",
       "      <td>78</td>\n",
       "    </tr>\n",
       "    <tr>\n",
       "      <th>9</th>\n",
       "      <td>0</td>\n",
       "      <td>0</td>\n",
       "      <td>0</td>\n",
       "      <td>0</td>\n",
       "      <td>0</td>\n",
       "      <td>0</td>\n",
       "      <td>1</td>\n",
       "      <td>0</td>\n",
       "      <td>0</td>\n",
       "      <td>0</td>\n",
       "      <td>0</td>\n",
       "      <td>0</td>\n",
       "      <td>0</td>\n",
       "      <td>1</td>\n",
       "      <td>0</td>\n",
       "      <td>0</td>\n",
       "      <td>0</td>\n",
       "      <td>0</td>\n",
       "      <td>1</td>\n",
       "      <td>0</td>\n",
       "      <td>0</td>\n",
       "      <td>0</td>\n",
       "      <td>0</td>\n",
       "      <td>0</td>\n",
       "      <td>0</td>\n",
       "      <td>23</td>\n",
       "      <td>97</td>\n",
       "    </tr>\n",
       "  </tbody>\n",
       "</table>\n",
       "</div>"
      ],
      "text/plain": [
       "   jobType_CFO  jobType_CTO  ...  yearsExperience  milesFromMetropolis\n",
       "0            0            0  ...               22                   73\n",
       "1            0            0  ...               20                   47\n",
       "2            0            1  ...               17                    9\n",
       "3            0            0  ...               14                   96\n",
       "4            0            0  ...               10                   44\n",
       "5            0            1  ...                6                   23\n",
       "6            0            0  ...                6                   32\n",
       "7            0            0  ...                9                   73\n",
       "8            0            0  ...                6                   78\n",
       "9            0            0  ...               23                   97\n",
       "\n",
       "[10 rows x 27 columns]"
      ]
     },
     "execution_count": 54,
     "metadata": {
      "tags": []
     },
     "output_type": "execute_result"
    }
   ],
   "source": [
    "#encoding test dataset\n",
    "test_data = one_hot_encode_testdata(test_features, cat_vars = None, num_vars = None)\n",
    "test_data.head(10)"
   ]
  },
  {
   "cell_type": "markdown",
   "metadata": {
    "colab_type": "text",
    "id": "LuNBFrF8Qlhe"
   },
   "source": [
    "4.2.3 Interaction variables are created for the test dataset"
   ]
  },
  {
   "cell_type": "code",
   "execution_count": 55,
   "metadata": {
    "colab": {
     "base_uri": "https://localhost:8080/",
     "height": 238
    },
    "colab_type": "code",
    "executionInfo": {
     "elapsed": 3846,
     "status": "ok",
     "timestamp": 1599661011347,
     "user": {
      "displayName": "Dapo Laniya",
      "photoUrl": "",
      "userId": "07293732013348809745"
     },
     "user_tz": 240
    },
    "id": "9EV7_F1kQlhf",
    "outputId": "e8bc59c1-93b4-421a-804e-ea07b465231f"
   },
   "outputs": [
    {
     "data": {
      "text/plain": [
       "array([[0.000e+00, 0.000e+00, 0.000e+00, ..., 0.000e+00, 0.000e+00,\n",
       "        1.606e+03],\n",
       "       [0.000e+00, 0.000e+00, 0.000e+00, ..., 0.000e+00, 0.000e+00,\n",
       "        9.400e+02],\n",
       "       [0.000e+00, 1.000e+00, 0.000e+00, ..., 0.000e+00, 0.000e+00,\n",
       "        1.530e+02],\n",
       "       ...,\n",
       "       [0.000e+00, 0.000e+00, 1.000e+00, ..., 0.000e+00, 0.000e+00,\n",
       "        9.100e+01],\n",
       "       [0.000e+00, 1.000e+00, 0.000e+00, ..., 0.000e+00, 0.000e+00,\n",
       "        8.820e+02],\n",
       "       [0.000e+00, 0.000e+00, 0.000e+00, ..., 0.000e+00, 0.000e+00,\n",
       "        4.960e+02]])"
      ]
     },
     "execution_count": 55,
     "metadata": {
      "tags": []
     },
     "output_type": "execute_result"
    }
   ],
   "source": [
    "# Creating interaction variables\n",
    "test_data_vars = create_interactions(test_data)\n",
    "test_data_vars"
   ]
  },
  {
   "cell_type": "markdown",
   "metadata": {
    "colab_type": "text",
    "id": "LuNBFrF8Qlhe"
   },
   "source": [
    "4.2.4 Salary predictions based on test data features are generated using the selected best model"
   ]
  },
  {
   "cell_type": "code",
   "execution_count": 56,
   "metadata": {
    "colab": {
     "base_uri": "https://localhost:8080/",
     "height": 51
    },
    "colab_type": "code",
    "executionInfo": {
     "elapsed": 1049,
     "status": "ok",
     "timestamp": 1599661032414,
     "user": {
      "displayName": "Dapo Laniya",
      "photoUrl": "",
      "userId": "07293732013348809745"
     },
     "user_tz": 240
    },
    "id": "1rWSqF9TQlhj",
    "outputId": "f3d6707e-76a1-4fc0-eaad-653ddba26f8c"
   },
   "outputs": [
    {
     "data": {
      "text/plain": [
       "array([111.40479671,  92.84943477, 183.18293014, ...,  55.16981058,\n",
       "       161.27786635, 112.35042371])"
      ]
     },
     "execution_count": 56,
     "metadata": {
      "tags": []
     },
     "output_type": "execute_result"
    }
   ],
   "source": [
    "salary_predictions = bestModel.predict(test_data_vars)\n",
    "salary_predictions"
   ]
  },
  {
   "cell_type": "markdown",
   "metadata": {
    "colab_type": "text",
    "id": "0sARzvkuQlhn"
   },
   "source": [
    "4.2.5 Combine the original test data and the predicted salaries"
   ]
  },
  {
   "cell_type": "code",
   "execution_count": 57,
   "metadata": {
    "colab": {},
    "colab_type": "code",
    "executionInfo": {
     "elapsed": 1198,
     "status": "ok",
     "timestamp": 1599661045316,
     "user": {
      "displayName": "Dapo Laniya",
      "photoUrl": "",
      "userId": "07293732013348809745"
     },
     "user_tz": 240
    },
    "id": "E0g4DGnhQlho"
   },
   "outputs": [],
   "source": [
    "# updating the test dataset with the additional 'predisted_salary' column\n",
    "test_features['salary'] = salary_predictions.tolist()"
   ]
  },
  {
   "cell_type": "code",
   "execution_count": 58,
   "metadata": {
    "colab": {
     "base_uri": "https://localhost:8080/",
     "height": 669
    },
    "colab_type": "code",
    "executionInfo": {
     "elapsed": 813,
     "status": "ok",
     "timestamp": 1599661049981,
     "user": {
      "displayName": "Dapo Laniya",
      "photoUrl": "",
      "userId": "07293732013348809745"
     },
     "user_tz": 240
    },
    "id": "mHCECvHIQlhu",
    "outputId": "fc688a78-aae1-48d3-d75d-af29ba11cb9d"
   },
   "outputs": [
    {
     "data": {
      "text/html": [
       "<div>\n",
       "<style scoped>\n",
       "    .dataframe tbody tr th:only-of-type {\n",
       "        vertical-align: middle;\n",
       "    }\n",
       "\n",
       "    .dataframe tbody tr th {\n",
       "        vertical-align: top;\n",
       "    }\n",
       "\n",
       "    .dataframe thead th {\n",
       "        text-align: right;\n",
       "    }\n",
       "</style>\n",
       "<table border=\"1\" class=\"dataframe\">\n",
       "  <thead>\n",
       "    <tr style=\"text-align: right;\">\n",
       "      <th></th>\n",
       "      <th>jobId</th>\n",
       "      <th>companyId</th>\n",
       "      <th>jobType</th>\n",
       "      <th>degree</th>\n",
       "      <th>major</th>\n",
       "      <th>industry</th>\n",
       "      <th>yearsExperience</th>\n",
       "      <th>milesFromMetropolis</th>\n",
       "      <th>salary</th>\n",
       "    </tr>\n",
       "  </thead>\n",
       "  <tbody>\n",
       "    <tr>\n",
       "      <th>0</th>\n",
       "      <td>JOB1362685407687</td>\n",
       "      <td>COMP33</td>\n",
       "      <td>MANAGER</td>\n",
       "      <td>HIGH_SCHOOL</td>\n",
       "      <td>NONE</td>\n",
       "      <td>HEALTH</td>\n",
       "      <td>22</td>\n",
       "      <td>73</td>\n",
       "      <td>111.404797</td>\n",
       "    </tr>\n",
       "    <tr>\n",
       "      <th>1</th>\n",
       "      <td>JOB1362685407688</td>\n",
       "      <td>COMP13</td>\n",
       "      <td>JUNIOR</td>\n",
       "      <td>NONE</td>\n",
       "      <td>NONE</td>\n",
       "      <td>AUTO</td>\n",
       "      <td>20</td>\n",
       "      <td>47</td>\n",
       "      <td>92.849435</td>\n",
       "    </tr>\n",
       "    <tr>\n",
       "      <th>2</th>\n",
       "      <td>JOB1362685407689</td>\n",
       "      <td>COMP10</td>\n",
       "      <td>CTO</td>\n",
       "      <td>MASTERS</td>\n",
       "      <td>BIOLOGY</td>\n",
       "      <td>HEALTH</td>\n",
       "      <td>17</td>\n",
       "      <td>9</td>\n",
       "      <td>183.182930</td>\n",
       "    </tr>\n",
       "    <tr>\n",
       "      <th>3</th>\n",
       "      <td>JOB1362685407690</td>\n",
       "      <td>COMP21</td>\n",
       "      <td>MANAGER</td>\n",
       "      <td>HIGH_SCHOOL</td>\n",
       "      <td>NONE</td>\n",
       "      <td>OIL</td>\n",
       "      <td>14</td>\n",
       "      <td>96</td>\n",
       "      <td>103.873477</td>\n",
       "    </tr>\n",
       "    <tr>\n",
       "      <th>4</th>\n",
       "      <td>JOB1362685407691</td>\n",
       "      <td>COMP36</td>\n",
       "      <td>JUNIOR</td>\n",
       "      <td>DOCTORAL</td>\n",
       "      <td>BIOLOGY</td>\n",
       "      <td>OIL</td>\n",
       "      <td>10</td>\n",
       "      <td>44</td>\n",
       "      <td>116.089035</td>\n",
       "    </tr>\n",
       "    <tr>\n",
       "      <th>5</th>\n",
       "      <td>JOB1362685407692</td>\n",
       "      <td>COMP40</td>\n",
       "      <td>CTO</td>\n",
       "      <td>MASTERS</td>\n",
       "      <td>COMPSCI</td>\n",
       "      <td>FINANCE</td>\n",
       "      <td>6</td>\n",
       "      <td>23</td>\n",
       "      <td>155.023772</td>\n",
       "    </tr>\n",
       "    <tr>\n",
       "      <th>6</th>\n",
       "      <td>JOB1362685407693</td>\n",
       "      <td>COMP32</td>\n",
       "      <td>SENIOR</td>\n",
       "      <td>MASTERS</td>\n",
       "      <td>COMPSCI</td>\n",
       "      <td>SERVICE</td>\n",
       "      <td>6</td>\n",
       "      <td>32</td>\n",
       "      <td>97.697212</td>\n",
       "    </tr>\n",
       "    <tr>\n",
       "      <th>7</th>\n",
       "      <td>JOB1362685407694</td>\n",
       "      <td>COMP11</td>\n",
       "      <td>CEO</td>\n",
       "      <td>BACHELORS</td>\n",
       "      <td>BIOLOGY</td>\n",
       "      <td>SERVICE</td>\n",
       "      <td>9</td>\n",
       "      <td>73</td>\n",
       "      <td>118.802391</td>\n",
       "    </tr>\n",
       "    <tr>\n",
       "      <th>8</th>\n",
       "      <td>JOB1362685407695</td>\n",
       "      <td>COMP39</td>\n",
       "      <td>MANAGER</td>\n",
       "      <td>DOCTORAL</td>\n",
       "      <td>PHYSICS</td>\n",
       "      <td>HEALTH</td>\n",
       "      <td>6</td>\n",
       "      <td>78</td>\n",
       "      <td>105.878875</td>\n",
       "    </tr>\n",
       "    <tr>\n",
       "      <th>9</th>\n",
       "      <td>JOB1362685407696</td>\n",
       "      <td>COMP22</td>\n",
       "      <td>VICE_PRESIDENT</td>\n",
       "      <td>NONE</td>\n",
       "      <td>NONE</td>\n",
       "      <td>AUTO</td>\n",
       "      <td>23</td>\n",
       "      <td>97</td>\n",
       "      <td>98.089071</td>\n",
       "    </tr>\n",
       "    <tr>\n",
       "      <th>10</th>\n",
       "      <td>JOB1362685407697</td>\n",
       "      <td>COMP27</td>\n",
       "      <td>JANITOR</td>\n",
       "      <td>HIGH_SCHOOL</td>\n",
       "      <td>NONE</td>\n",
       "      <td>AUTO</td>\n",
       "      <td>23</td>\n",
       "      <td>60</td>\n",
       "      <td>80.784859</td>\n",
       "    </tr>\n",
       "    <tr>\n",
       "      <th>11</th>\n",
       "      <td>JOB1362685407698</td>\n",
       "      <td>COMP13</td>\n",
       "      <td>JUNIOR</td>\n",
       "      <td>DOCTORAL</td>\n",
       "      <td>LITERATURE</td>\n",
       "      <td>EDUCATION</td>\n",
       "      <td>14</td>\n",
       "      <td>48</td>\n",
       "      <td>100.339094</td>\n",
       "    </tr>\n",
       "    <tr>\n",
       "      <th>12</th>\n",
       "      <td>JOB1362685407699</td>\n",
       "      <td>COMP48</td>\n",
       "      <td>JUNIOR</td>\n",
       "      <td>BACHELORS</td>\n",
       "      <td>MATH</td>\n",
       "      <td>AUTO</td>\n",
       "      <td>5</td>\n",
       "      <td>1</td>\n",
       "      <td>91.717946</td>\n",
       "    </tr>\n",
       "    <tr>\n",
       "      <th>13</th>\n",
       "      <td>JOB1362685407700</td>\n",
       "      <td>COMP54</td>\n",
       "      <td>JUNIOR</td>\n",
       "      <td>HIGH_SCHOOL</td>\n",
       "      <td>NONE</td>\n",
       "      <td>SERVICE</td>\n",
       "      <td>0</td>\n",
       "      <td>48</td>\n",
       "      <td>50.980005</td>\n",
       "    </tr>\n",
       "    <tr>\n",
       "      <th>14</th>\n",
       "      <td>JOB1362685407701</td>\n",
       "      <td>COMP23</td>\n",
       "      <td>MANAGER</td>\n",
       "      <td>MASTERS</td>\n",
       "      <td>LITERATURE</td>\n",
       "      <td>SERVICE</td>\n",
       "      <td>17</td>\n",
       "      <td>64</td>\n",
       "      <td>108.187252</td>\n",
       "    </tr>\n",
       "    <tr>\n",
       "      <th>15</th>\n",
       "      <td>JOB1362685407702</td>\n",
       "      <td>COMP28</td>\n",
       "      <td>VICE_PRESIDENT</td>\n",
       "      <td>HIGH_SCHOOL</td>\n",
       "      <td>NONE</td>\n",
       "      <td>SERVICE</td>\n",
       "      <td>13</td>\n",
       "      <td>75</td>\n",
       "      <td>96.401299</td>\n",
       "    </tr>\n",
       "    <tr>\n",
       "      <th>16</th>\n",
       "      <td>JOB1362685407703</td>\n",
       "      <td>COMP26</td>\n",
       "      <td>JUNIOR</td>\n",
       "      <td>MASTERS</td>\n",
       "      <td>PHYSICS</td>\n",
       "      <td>HEALTH</td>\n",
       "      <td>19</td>\n",
       "      <td>76</td>\n",
       "      <td>101.019037</td>\n",
       "    </tr>\n",
       "    <tr>\n",
       "      <th>17</th>\n",
       "      <td>JOB1362685407704</td>\n",
       "      <td>COMP20</td>\n",
       "      <td>JANITOR</td>\n",
       "      <td>NONE</td>\n",
       "      <td>NONE</td>\n",
       "      <td>WEB</td>\n",
       "      <td>23</td>\n",
       "      <td>87</td>\n",
       "      <td>73.904057</td>\n",
       "    </tr>\n",
       "    <tr>\n",
       "      <th>18</th>\n",
       "      <td>JOB1362685407705</td>\n",
       "      <td>COMP60</td>\n",
       "      <td>CEO</td>\n",
       "      <td>HIGH_SCHOOL</td>\n",
       "      <td>NONE</td>\n",
       "      <td>EDUCATION</td>\n",
       "      <td>17</td>\n",
       "      <td>31</td>\n",
       "      <td>139.200625</td>\n",
       "    </tr>\n",
       "    <tr>\n",
       "      <th>19</th>\n",
       "      <td>JOB1362685407706</td>\n",
       "      <td>COMP6</td>\n",
       "      <td>JUNIOR</td>\n",
       "      <td>NONE</td>\n",
       "      <td>NONE</td>\n",
       "      <td>FINANCE</td>\n",
       "      <td>7</td>\n",
       "      <td>52</td>\n",
       "      <td>84.498488</td>\n",
       "    </tr>\n",
       "  </tbody>\n",
       "</table>\n",
       "</div>"
      ],
      "text/plain": [
       "               jobId companyId  ... milesFromMetropolis      salary\n",
       "0   JOB1362685407687    COMP33  ...                  73  111.404797\n",
       "1   JOB1362685407688    COMP13  ...                  47   92.849435\n",
       "2   JOB1362685407689    COMP10  ...                   9  183.182930\n",
       "3   JOB1362685407690    COMP21  ...                  96  103.873477\n",
       "4   JOB1362685407691    COMP36  ...                  44  116.089035\n",
       "5   JOB1362685407692    COMP40  ...                  23  155.023772\n",
       "6   JOB1362685407693    COMP32  ...                  32   97.697212\n",
       "7   JOB1362685407694    COMP11  ...                  73  118.802391\n",
       "8   JOB1362685407695    COMP39  ...                  78  105.878875\n",
       "9   JOB1362685407696    COMP22  ...                  97   98.089071\n",
       "10  JOB1362685407697    COMP27  ...                  60   80.784859\n",
       "11  JOB1362685407698    COMP13  ...                  48  100.339094\n",
       "12  JOB1362685407699    COMP48  ...                   1   91.717946\n",
       "13  JOB1362685407700    COMP54  ...                  48   50.980005\n",
       "14  JOB1362685407701    COMP23  ...                  64  108.187252\n",
       "15  JOB1362685407702    COMP28  ...                  75   96.401299\n",
       "16  JOB1362685407703    COMP26  ...                  76  101.019037\n",
       "17  JOB1362685407704    COMP20  ...                  87   73.904057\n",
       "18  JOB1362685407705    COMP60  ...                  31  139.200625\n",
       "19  JOB1362685407706     COMP6  ...                  52   84.498488\n",
       "\n",
       "[20 rows x 9 columns]"
      ]
     },
     "execution_count": 58,
     "metadata": {
      "tags": []
     },
     "output_type": "execute_result"
    }
   ],
   "source": [
    "test_features.head(20)"
   ]
  },
  {
   "cell_type": "markdown",
   "metadata": {
    "colab_type": "text",
    "id": "Pxt7_5dBQlhy"
   },
   "source": [
    "4.2.6 Export the final dataset to a csv file"
   ]
  },
  {
   "cell_type": "code",
   "execution_count": 59,
   "metadata": {
    "colab": {},
    "colab_type": "code",
    "executionInfo": {
     "elapsed": 5693,
     "status": "ok",
     "timestamp": 1599661060923,
     "user": {
      "displayName": "Dapo Laniya",
      "photoUrl": "",
      "userId": "07293732013348809745"
     },
     "user_tz": 240
    },
    "id": "kx8eePVQQlhz"
   },
   "outputs": [],
   "source": [
    "#Exporting the final predicted dataset to a csv file\n",
    "test_features.to_csv('test_salaries.csv')"
   ]
  },
  {
   "cell_type": "markdown",
   "metadata": {
    "colab_type": "text",
    "id": "HU-HaOghQlh3"
   },
   "source": [
    "### 4.3 Feature Importance"
   ]
  },
  {
   "cell_type": "markdown",
   "metadata": {
    "colab_type": "text",
    "id": "Pxt7_5dBQlhy"
   },
   "source": [
    "4.3.1 Fit the Gradient Boosting Model to the coded training data to compute feature importance"
   ]
  },
  {
   "cell_type": "code",
   "execution_count": 60,
   "metadata": {
    "colab": {
     "base_uri": "https://localhost:8080/",
     "height": 170
    },
    "colab_type": "code",
    "executionInfo": {
     "elapsed": 963468,
     "status": "ok",
     "timestamp": 1599662039161,
     "user": {
      "displayName": "Dapo Laniya",
      "photoUrl": "",
      "userId": "07293732013348809745"
     },
     "user_tz": 240
    },
    "id": "5AFWZtNtwO8c",
    "outputId": "ad210739-76e7-443c-857f-e4929ec7b38b"
   },
   "outputs": [
    {
     "data": {
      "text/plain": [
       "GradientBoostingRegressor(alpha=0.9, ccp_alpha=0.0, criterion='mse', init=None,\n",
       "                          learning_rate=0.08, loss='ls', max_depth=10,\n",
       "                          max_features=None, max_leaf_nodes=None,\n",
       "                          min_impurity_decrease=0.0, min_impurity_split=None,\n",
       "                          min_samples_leaf=40, min_samples_split=2,\n",
       "                          min_weight_fraction_leaf=0.0, n_estimators=200,\n",
       "                          n_iter_no_change=None, presort='deprecated',\n",
       "                          random_state=42, subsample=1, tol=0.0001,\n",
       "                          validation_fraction=0.1, verbose=0, warm_start=False)"
      ]
     },
     "execution_count": 60,
     "metadata": {
      "tags": []
     },
     "output_type": "execute_result"
    }
   ],
   "source": [
    "grb.fit(model_data[features], model_data['salary'] )"
   ]
  },
  {
   "cell_type": "markdown",
   "metadata": {
    "colab_type": "text",
    "id": "Pxt7_5dBQlhy"
   },
   "source": [
    "4.3.2 Generate and plot the sorted feature importance data."
   ]
  },
  {
   "cell_type": "code",
   "execution_count": 61,
   "metadata": {
    "colab": {
     "base_uri": "https://localhost:8080/",
     "height": 722
    },
    "colab_type": "code",
    "executionInfo": {
     "elapsed": 1068,
     "status": "ok",
     "timestamp": 1599662324295,
     "user": {
      "displayName": "Dapo Laniya",
      "photoUrl": "",
      "userId": "07293732013348809745"
     },
     "user_tz": 240
    },
    "id": "38uN6Lu_yCJP",
    "outputId": "af5bccbf-1403-44e9-c4fe-d9928a3d9f7c",
    "scrolled": true
   },
   "outputs": [
    {
     "data": {
      "image/png": "[encoded data removed]",
      "text/plain": [
       "<Figure size 1440x720 with 1 Axes>"
      ]
     },
     "metadata": {
      "tags": []
     },
     "output_type": "display_data"
    }
   ],
   "source": [
    "# store feature importances\n",
    "\n",
    "if hasattr(grb, 'feature_importances_'):\n",
    "    importances = grb.feature_importances_\n",
    "\n",
    "else:\n",
    "    # for linear models which don't have feature_importances_\n",
    "    importances = [0]*len(model_data[features].columns)\n",
    "\n",
    "feature_importances = pd.DataFrame({'feature':model_data[features].columns, 'importance':importances})\n",
    "feature_importances.sort_values(by='importance', ascending=False, inplace=True)\n",
    "    \n",
    "# set index to 'feature'\n",
    "feature_importances.set_index('feature', inplace=True, drop=True)\n",
    "    \n",
    "# create plot\n",
    "feature_importances[0:25].plot.bar(figsize=(20,10))\n",
    "plt.show()"
   ]
  },
  {
   "cell_type": "markdown",
   "metadata": {
    "colab_type": "text",
    "id": "Lc2h8CLdQlgz"
   },
   "source": [
    "Findings :  Plot shows the importance of each feature in the prediction of the salary. Years of experience and Miles From Metropolis are in the 10 features."
   ]
  },
  {
   "cell_type": "markdown",
   "metadata": {
    "colab_type": "text",
    "id": "hz6B1hKNQliK"
   },
   "source": [
    "### 4.4 Summarize the predicted Salaries"
   ]
  },
  {
   "cell_type": "markdown",
   "metadata": {
    "colab_type": "text",
    "id": "cgmcMp1TQliL"
   },
   "source": [
    "We'll skip this step since we don't have the outcomes for the test data"
   ]
  },
  {
   "cell_type": "code",
   "execution_count": 62,
   "metadata": {
    "colab": {
     "base_uri": "https://localhost:8080/",
     "height": 388
    },
    "colab_type": "code",
    "executionInfo": {
     "elapsed": 1064,
     "status": "ok",
     "timestamp": 1599662338856,
     "user": {
      "displayName": "Dapo Laniya",
      "photoUrl": "",
      "userId": "07293732013348809745"
     },
     "user_tz": 240
    },
    "id": "7Qp77tR6QliM",
    "outputId": "5e19eb1a-54ef-4b46-a490-a95091d4f3a3"
   },
   "outputs": [
    {
     "data": {
      "image/png": "[encoded data removed]",
      "text/plain": [
       "<Figure size 1008x432 with 2 Axes>"
      ]
     },
     "metadata": {
      "tags": []
     },
     "output_type": "display_data"
    }
   ],
   "source": [
    "#Visualize target variable data \n",
    "plt.figure(figsize = (14, 6))\n",
    "plt.subplot(1,2,1)\n",
    "sns.boxplot(test_features.salary)\n",
    "plt.subplot(1,2,2)\n",
    "sns.distplot(test_features.salary, bins=20)\n",
    "plt.show()"
   ]
  },
  {
   "cell_type": "code",
   "execution_count": 63,
   "metadata": {
    "colab": {
     "base_uri": "https://localhost:8080/",
     "height": 390
    },
    "colab_type": "code",
    "executionInfo": {
     "elapsed": 4025,
     "status": "ok",
     "timestamp": 1599662354531,
     "user": {
      "displayName": "Dapo Laniya",
      "photoUrl": "",
      "userId": "07293732013348809745"
     },
     "user_tz": 240
    },
    "id": "_-d_x_3js5BR",
    "outputId": "acf5045f-58c1-4a13-8274-7d0af2952702"
   },
   "outputs": [
    {
     "data": {
      "text/html": [
       "<div>\n",
       "<style scoped>\n",
       "    .dataframe tbody tr th:only-of-type {\n",
       "        vertical-align: middle;\n",
       "    }\n",
       "\n",
       "    .dataframe tbody tr th {\n",
       "        vertical-align: top;\n",
       "    }\n",
       "\n",
       "    .dataframe thead th {\n",
       "        text-align: right;\n",
       "    }\n",
       "</style>\n",
       "<table border=\"1\" class=\"dataframe\">\n",
       "  <thead>\n",
       "    <tr style=\"text-align: right;\">\n",
       "      <th></th>\n",
       "      <th>jobId</th>\n",
       "      <th>companyId</th>\n",
       "      <th>jobType</th>\n",
       "      <th>degree</th>\n",
       "      <th>major</th>\n",
       "      <th>industry</th>\n",
       "      <th>yearsExperience</th>\n",
       "      <th>milesFromMetropolis</th>\n",
       "      <th>salary</th>\n",
       "    </tr>\n",
       "  </thead>\n",
       "  <tbody>\n",
       "    <tr>\n",
       "      <th>count</th>\n",
       "      <td>1000000</td>\n",
       "      <td>1000000</td>\n",
       "      <td>1000000</td>\n",
       "      <td>1000000</td>\n",
       "      <td>1000000</td>\n",
       "      <td>1000000</td>\n",
       "      <td>1000000.000000</td>\n",
       "      <td>1000000.000000</td>\n",
       "      <td>1000000.000000</td>\n",
       "    </tr>\n",
       "    <tr>\n",
       "      <th>unique</th>\n",
       "      <td>1000000</td>\n",
       "      <td>63</td>\n",
       "      <td>8</td>\n",
       "      <td>5</td>\n",
       "      <td>9</td>\n",
       "      <td>7</td>\n",
       "      <td>NaN</td>\n",
       "      <td>NaN</td>\n",
       "      <td>NaN</td>\n",
       "    </tr>\n",
       "    <tr>\n",
       "      <th>top</th>\n",
       "      <td>JOB1362685478975</td>\n",
       "      <td>COMP13</td>\n",
       "      <td>VICE_PRESIDENT</td>\n",
       "      <td>HIGH_SCHOOL</td>\n",
       "      <td>NONE</td>\n",
       "      <td>SERVICE</td>\n",
       "      <td>NaN</td>\n",
       "      <td>NaN</td>\n",
       "      <td>NaN</td>\n",
       "    </tr>\n",
       "    <tr>\n",
       "      <th>freq</th>\n",
       "      <td>1</td>\n",
       "      <td>16130</td>\n",
       "      <td>125434</td>\n",
       "      <td>238255</td>\n",
       "      <td>534068</td>\n",
       "      <td>143161</td>\n",
       "      <td>NaN</td>\n",
       "      <td>NaN</td>\n",
       "      <td>NaN</td>\n",
       "    </tr>\n",
       "    <tr>\n",
       "      <th>mean</th>\n",
       "      <td>NaN</td>\n",
       "      <td>NaN</td>\n",
       "      <td>NaN</td>\n",
       "      <td>NaN</td>\n",
       "      <td>NaN</td>\n",
       "      <td>NaN</td>\n",
       "      <td>12.002104</td>\n",
       "      <td>49.526414</td>\n",
       "      <td>116.058846</td>\n",
       "    </tr>\n",
       "    <tr>\n",
       "      <th>std</th>\n",
       "      <td>NaN</td>\n",
       "      <td>NaN</td>\n",
       "      <td>NaN</td>\n",
       "      <td>NaN</td>\n",
       "      <td>NaN</td>\n",
       "      <td>NaN</td>\n",
       "      <td>7.213179</td>\n",
       "      <td>28.889713</td>\n",
       "      <td>33.833572</td>\n",
       "    </tr>\n",
       "    <tr>\n",
       "      <th>min</th>\n",
       "      <td>NaN</td>\n",
       "      <td>NaN</td>\n",
       "      <td>NaN</td>\n",
       "      <td>NaN</td>\n",
       "      <td>NaN</td>\n",
       "      <td>NaN</td>\n",
       "      <td>0.000000</td>\n",
       "      <td>0.000000</td>\n",
       "      <td>23.032000</td>\n",
       "    </tr>\n",
       "    <tr>\n",
       "      <th>25%</th>\n",
       "      <td>NaN</td>\n",
       "      <td>NaN</td>\n",
       "      <td>NaN</td>\n",
       "      <td>NaN</td>\n",
       "      <td>NaN</td>\n",
       "      <td>NaN</td>\n",
       "      <td>6.000000</td>\n",
       "      <td>25.000000</td>\n",
       "      <td>92.867863</td>\n",
       "    </tr>\n",
       "    <tr>\n",
       "      <th>50%</th>\n",
       "      <td>NaN</td>\n",
       "      <td>NaN</td>\n",
       "      <td>NaN</td>\n",
       "      <td>NaN</td>\n",
       "      <td>NaN</td>\n",
       "      <td>NaN</td>\n",
       "      <td>12.000000</td>\n",
       "      <td>50.000000</td>\n",
       "      <td>116.507753</td>\n",
       "    </tr>\n",
       "    <tr>\n",
       "      <th>75%</th>\n",
       "      <td>NaN</td>\n",
       "      <td>NaN</td>\n",
       "      <td>NaN</td>\n",
       "      <td>NaN</td>\n",
       "      <td>NaN</td>\n",
       "      <td>NaN</td>\n",
       "      <td>18.000000</td>\n",
       "      <td>75.000000</td>\n",
       "      <td>139.256232</td>\n",
       "    </tr>\n",
       "    <tr>\n",
       "      <th>max</th>\n",
       "      <td>NaN</td>\n",
       "      <td>NaN</td>\n",
       "      <td>NaN</td>\n",
       "      <td>NaN</td>\n",
       "      <td>NaN</td>\n",
       "      <td>NaN</td>\n",
       "      <td>24.000000</td>\n",
       "      <td>99.000000</td>\n",
       "      <td>248.098127</td>\n",
       "    </tr>\n",
       "  </tbody>\n",
       "</table>\n",
       "</div>"
      ],
      "text/plain": [
       "                   jobId companyId  ... milesFromMetropolis          salary\n",
       "count            1000000   1000000  ...      1000000.000000  1000000.000000\n",
       "unique           1000000        63  ...                 NaN             NaN\n",
       "top     JOB1362685478975    COMP13  ...                 NaN             NaN\n",
       "freq                   1     16130  ...                 NaN             NaN\n",
       "mean                 NaN       NaN  ...           49.526414      116.058846\n",
       "std                  NaN       NaN  ...           28.889713       33.833572\n",
       "min                  NaN       NaN  ...            0.000000       23.032000\n",
       "25%                  NaN       NaN  ...           25.000000       92.867863\n",
       "50%                  NaN       NaN  ...           50.000000      116.507753\n",
       "75%                  NaN       NaN  ...           75.000000      139.256232\n",
       "max                  NaN       NaN  ...           99.000000      248.098127\n",
       "\n",
       "[11 rows x 9 columns]"
      ]
     },
     "execution_count": 63,
     "metadata": {
      "tags": []
     },
     "output_type": "execute_result"
    }
   ],
   "source": [
    "#summarize variables\n",
    "test_features.describe(include = \"all\")"
   ]
  },
  {
   "cell_type": "code",
   "execution_count": 64,
   "metadata": {
    "colab": {},
    "colab_type": "code",
    "executionInfo": {
     "elapsed": 841,
     "status": "ok",
     "timestamp": 1599662359074,
     "user": {
      "displayName": "Dapo Laniya",
      "photoUrl": "",
      "userId": "07293732013348809745"
     },
     "user_tz": 240
    },
    "id": "oaueT930QliR"
   },
   "outputs": [],
   "source": [
    "# Function to create plots to check correlation of features with the target variable\n",
    "def feature_plot(df, df2, col):\n",
    "    plt.figure(figsize = (14, 6))\n",
    "    plt.subplot(1, 2, 1)\n",
    "    if df[col].dtype == 'int64' or col == 'companyId':\n",
    "        mean = df.groupby(col)['salary'].mean()\n",
    "        std = df.groupby(col)['salary'].std()\n",
    "        mean.plot()\n",
    "        plt.fill_between(range(len(std.index)), mean.values-std.values, mean.values + std.values, \\\n",
    "                         alpha = 0.1)\n",
    "    else:\n",
    "        sns.boxplot(x = col, y = 'salary', data = df)\n",
    "        \n",
    "        plt.xticks(rotation = 45)\n",
    "        plt.ylabel('salaries')\n",
    "        plt.title('Training Data')\n",
    "    plt.subplot(1, 2, 2)\n",
    "    if df2[col].dtype == 'int64' or col == 'companyId':\n",
    "        mean = df2.groupby(col)['salary'].mean()\n",
    "        std = df2.groupby(col)['salary'].std()\n",
    "        mean.plot()\n",
    "        plt.fill_between(range(len(std.index)), mean.values-std.values, mean.values + std.values, \\\n",
    "                         alpha = 0.4)\n",
    "    else:\n",
    "        sns.boxplot(x = col, y = 'salary', data = df2)\n",
    "        \n",
    "        plt.xticks(rotation = 45)\n",
    "        plt.ylabel('Predicted salaries')\n",
    "        plt.title('Test Data')\n",
    "        plt.show()"
   ]
  },
  {
   "cell_type": "code",
   "execution_count": 65,
   "metadata": {
    "colab": {
     "base_uri": "https://localhost:8080/",
     "height": 388
    },
    "colab_type": "code",
    "executionInfo": {
     "elapsed": 1080,
     "status": "ok",
     "timestamp": 1599662364685,
     "user": {
      "displayName": "Dapo Laniya",
      "photoUrl": "",
      "userId": "07293732013348809745"
     },
     "user_tz": 240
    },
    "id": "ZEuDERQZQlib",
    "outputId": "4724aff2-333c-46e0-d1bf-bfbd0d1a21d9"
   },
   "outputs": [
    {
     "data": {
      "image/png": "[encoded data removed]",
      "text/plain": [
       "<Figure size 1008x432 with 2 Axes>"
      ]
     },
     "metadata": {
      "tags": []
     },
     "output_type": "display_data"
    }
   ],
   "source": [
    "feature_plot(merged_train_data, test_features, 'companyId')"
   ]
  },
  {
   "cell_type": "code",
   "execution_count": 66,
   "metadata": {
    "colab": {
     "base_uri": "https://localhost:8080/",
     "height": 461
    },
    "colab_type": "code",
    "executionInfo": {
     "elapsed": 1040,
     "status": "ok",
     "timestamp": 1599662369648,
     "user": {
      "displayName": "Dapo Laniya",
      "photoUrl": "",
      "userId": "07293732013348809745"
     },
     "user_tz": 240
    },
    "id": "vSllJMNeQlig",
    "outputId": "4672d24a-cd18-41bf-ef91-4c865e0bf799"
   },
   "outputs": [
    {
     "data": {
      "image/png": "[encoded data removed]",
      "text/plain": [
       "<Figure size 1008x432 with 2 Axes>"
      ]
     },
     "metadata": {
      "tags": []
     },
     "output_type": "display_data"
    }
   ],
   "source": [
    "feature_plot(merged_train_data, test_features, 'jobType')"
   ]
  },
  {
   "cell_type": "code",
   "execution_count": 67,
   "metadata": {
    "colab": {
     "base_uri": "https://localhost:8080/",
     "height": 453
    },
    "colab_type": "code",
    "executionInfo": {
     "elapsed": 1532,
     "status": "ok",
     "timestamp": 1599662375015,
     "user": {
      "displayName": "Dapo Laniya",
      "photoUrl": "",
      "userId": "07293732013348809745"
     },
     "user_tz": 240
    },
    "id": "-HmrsB_cQlil",
    "outputId": "4d625df2-2d94-4484-f393-710b755f910f"
   },
   "outputs": [
    {
     "data": {
      "image/png": "[encoded data removed]",
      "text/plain": [
       "<Figure size 1008x432 with 2 Axes>"
      ]
     },
     "metadata": {
      "tags": []
     },
     "output_type": "display_data"
    }
   ],
   "source": [
    "feature_plot(merged_train_data, test_features, 'degree')"
   ]
  },
  {
   "cell_type": "code",
   "execution_count": 68,
   "metadata": {
    "colab": {
     "base_uri": "https://localhost:8080/",
     "height": 450
    },
    "colab_type": "code",
    "executionInfo": {
     "elapsed": 2185,
     "status": "ok",
     "timestamp": 1599662381258,
     "user": {
      "displayName": "Dapo Laniya",
      "photoUrl": "",
      "userId": "07293732013348809745"
     },
     "user_tz": 240
    },
    "id": "4gtk0zxIQlis",
    "outputId": "f3db0a23-7879-466a-d469-6180e348fe6d"
   },
   "outputs": [
    {
     "data": {
      "image/png": "[encoded data removed]",
      "text/plain": [
       "<Figure size 1008x432 with 2 Axes>"
      ]
     },
     "metadata": {
      "tags": []
     },
     "output_type": "display_data"
    }
   ],
   "source": [
    "feature_plot(merged_train_data, test_features, 'major')"
   ]
  },
  {
   "cell_type": "code",
   "execution_count": 69,
   "metadata": {
    "colab": {
     "base_uri": "https://localhost:8080/",
     "height": 442
    },
    "colab_type": "code",
    "executionInfo": {
     "elapsed": 1117,
     "status": "ok",
     "timestamp": 1599662391016,
     "user": {
      "displayName": "Dapo Laniya",
      "photoUrl": "",
      "userId": "07293732013348809745"
     },
     "user_tz": 240
    },
    "id": "vaSakzFwQliy",
    "outputId": "3fb724d4-d466-4f4e-b256-e43ce61c2f1e"
   },
   "outputs": [
    {
     "data": {
      "image/png": "[encoded data removed]",
      "text/plain": [
       "<Figure size 1008x432 with 2 Axes>"
      ]
     },
     "metadata": {
      "tags": []
     },
     "output_type": "display_data"
    }
   ],
   "source": [
    "feature_plot(merged_train_data, test_features, 'industry')"
   ]
  },
  {
   "cell_type": "code",
   "execution_count": 70,
   "metadata": {
    "colab": {
     "base_uri": "https://localhost:8080/",
     "height": 388
    },
    "colab_type": "code",
    "executionInfo": {
     "elapsed": 761,
     "status": "ok",
     "timestamp": 1599662395842,
     "user": {
      "displayName": "Dapo Laniya",
      "photoUrl": "",
      "userId": "07293732013348809745"
     },
     "user_tz": 240
    },
    "id": "YUR9xUTbQli3",
    "outputId": "e2222158-a9cc-40cb-eff7-ab1cf26aad9e"
   },
   "outputs": [
    {
     "data": {
      "image/png": "[encoded data removed]",
      "text/plain": [
       "<Figure size 1008x432 with 2 Axes>"
      ]
     },
     "metadata": {
      "tags": []
     },
     "output_type": "display_data"
    }
   ],
   "source": [
    "feature_plot(merged_train_data, test_features, 'yearsExperience')"
   ]
  },
  {
   "cell_type": "code",
   "execution_count": 71,
   "metadata": {
    "colab": {
     "base_uri": "https://localhost:8080/",
     "height": 388
    },
    "colab_type": "code",
    "executionInfo": {
     "elapsed": 819,
     "status": "ok",
     "timestamp": 1599662400612,
     "user": {
      "displayName": "Dapo Laniya",
      "photoUrl": "",
      "userId": "07293732013348809745"
     },
     "user_tz": 240
    },
    "id": "WWI_bgfWsmzr",
    "outputId": "70eac0cd-3d48-432d-9301-704bf65f407e"
   },
   "outputs": [
    {
     "data": {
      "image/png": "[encoded data removed]",
      "text/plain": [
       "<Figure size 1008x432 with 2 Axes>"
      ]
     },
     "metadata": {
      "tags": []
     },
     "output_type": "display_data"
    }
   ],
   "source": [
    "feature_plot(merged_train_data, test_features, 'milesFromMetropolis')"
   ]
  }
 ],
 "metadata": {
  "accelerator": "TPU",
  "colab": {
   "name": "Copy of Salary Prediction Notebook.ipynb",
   "provenance": [
    {
     "file_id": "1dZqfT5s7hjfGo79syoUpxanJYt9wbSuH",
     "timestamp": 1599650290555
    },
    {
     "file_id": "15ECUiWi_gnt08Y_LIVu3YKDntgwxA57V",
     "timestamp": 1599588421736
    }
   ],
   "toc_visible": true
  },
  "kernelspec": {
   "display_name": "Python 3",
   "language": "python",
   "name": "python3"
  },
  "language_info": {
   "codemirror_mode": {
    "name": "ipython",
    "version": 3
   },
   "file_extension": ".py",
   "mimetype": "text/x-python",
   "name": "python",
   "nbconvert_exporter": "python",
   "pygments_lexer": "ipython3",
   "version": "3.8.3"
  }
 },
 "nbformat": 4,
 "nbformat_minor": 1
}
